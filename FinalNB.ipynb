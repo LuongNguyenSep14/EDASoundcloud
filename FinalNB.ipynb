{
 "cells": [
  {
   "cell_type": "markdown",
   "id": "c90b4ea5",
   "metadata": {},
   "source": [
    "# Bảng phân công:"
   ]
  },
  {
   "cell_type": "markdown",
   "id": "c075f23d",
   "metadata": {},
   "source": [
    "**<font color=\"green\">Mỗi người trong nhóm sẽ đặt ra 1 câu hỏi có ý nghĩa, tự xử lý và phân tích dữ liệu và đưa ra câu trả lời:**"
   ]
  },
  {
   "cell_type": "markdown",
   "id": "64f690c5",
   "metadata": {},
   "source": [
    "| Thành viên | MSSV | Câu hỏi |\n",
    "| --- | ----------- | ---- |\n",
    "| Nguyễn Minh Lương | 19120571 | Số lượng track có link mua ở trên SoundCloud qua từng năm.|\n",
    "| Phạm Văn Nam | 19120597 | sự thay đổi về số lượng creator sử dụng gói pro/pro_unlimited/free qua các năm. |\n",
    "| Nguyễn Minh Long | 19120568 | Liệu tên dài hay ngắn có ảnh hưởng đến số lượt nghe.|\n",
    "| Trần Mỹ Hân | 19120217 | Tỉ lệ % track cho phép down (cột downloadable) theo năm (cột created_at) |\n",
    "| Tạ Võ Anh Khuê | 19120551 | xếp hạng các yếu tố nào có ảnh hưởng nhiều đến số lần nghe(playback_count). |"
   ]
  },
  {
   "cell_type": "markdown",
   "id": "5bf3561f",
   "metadata": {},
   "source": [
    "# Import"
   ]
  },
  {
   "cell_type": "code",
   "execution_count": 1,
   "id": "86997a8f",
   "metadata": {},
   "outputs": [],
   "source": [
    "import matplotlib.pyplot as plt\n",
    "import numpy as np\n",
    "import pandas as pd \n",
    "from datetime import datetime\n",
    "import warnings\n",
    "import json\n",
    "warnings.filterwarnings(\"ignore\")\n",
    "pd.set_option('display.max_colwidth', None)\n",
    "# YOUR CODE HERE (OPTION) \n",
    "# Nếu cần các thư viện khác thì bạn có thể import ở đây"
   ]
  },
  {
   "cell_type": "markdown",
   "id": "f212c6df",
   "metadata": {},
   "source": [
    "---"
   ]
  },
  {
   "cell_type": "markdown",
   "id": "1e127228",
   "metadata": {},
   "source": [
    "# Mục tiêu của đồ án"
   ]
  },
  {
   "cell_type": "markdown",
   "id": "f6052df3",
   "metadata": {},
   "source": [
    "- Phân tích dữ liệu về các nghệ sĩ, ban nhạc, podcast và người sáng\n",
    "tác âm nhạc trên trang Soundcloud.\n",
    "\n",
    "- Và thông qua đồ án này làm quen và biết cách xử lý dữ liệu cơ bản, phân tích và rút ra các insight về tập dữ\n",
    "liệu."
   ]
  },
  {
   "cell_type": "markdown",
   "id": "8c38f2f4",
   "metadata": {},
   "source": [
    "---"
   ]
  },
  {
   "cell_type": "markdown",
   "id": "61b49be1",
   "metadata": {},
   "source": [
    "# Thu thập dữ liệu"
   ]
  },
  {
   "cell_type": "markdown",
   "id": "ebacac08",
   "metadata": {},
   "source": [
    "Bước này đã được hoàn thành tại Project01.\n",
    "\n",
    "Các dữ liệu gồm có:\n",
    "* `users.csv` - gồm thông tin của Creator, nhà sáng tạo nội dung,.. trên soundcloud.\n",
    "* `tracks.csv` - gồm thông tin của track."
   ]
  },
  {
   "cell_type": "markdown",
   "id": "9f1d06ef",
   "metadata": {},
   "source": [
    "---"
   ]
  },
  {
   "cell_type": "markdown",
   "id": "5b4a0810",
   "metadata": {},
   "source": [
    "# Khám phá dữ liệu"
   ]
  },
  {
   "cell_type": "markdown",
   "id": "5aecf8b1",
   "metadata": {},
   "source": [
    "## Đọc dữ liệu từ file"
   ]
  },
  {
   "cell_type": "markdown",
   "id": "3cc383af",
   "metadata": {},
   "source": [
    "Các bạn sẽ viết code để đọc các file .csv vào các biến như sau:\n",
    "* `tracks.csv` $\\to$ `track`.\n",
    "* `users.csv` $\\to$ `user`."
   ]
  },
  {
   "cell_type": "code",
   "execution_count": 2,
   "id": "fe55a600",
   "metadata": {},
   "outputs": [],
   "source": [
    "tracks = pd.read_csv(\"tracks.csv\", sep=\"\\t\")\n",
    "users = pd.read_csv(\"users.csv\", sep=\"\\t\")"
   ]
  },
  {
   "cell_type": "markdown",
   "id": "a152b86a",
   "metadata": {},
   "source": [
    "## Hiển thị vài dòng đầu và giải thích ý nghĩa của các cột"
   ]
  },
  {
   "cell_type": "markdown",
   "id": "911df158",
   "metadata": {},
   "source": [
    "### Tập dữ liệu `track.csv`:"
   ]
  },
  {
   "cell_type": "code",
   "execution_count": 3,
   "id": "8e2a0d16",
   "metadata": {
    "scrolled": false
   },
   "outputs": [
    {
     "data": {
      "text/html": [
       "<div>\n",
       "<style scoped>\n",
       "    .dataframe tbody tr th:only-of-type {\n",
       "        vertical-align: middle;\n",
       "    }\n",
       "\n",
       "    .dataframe tbody tr th {\n",
       "        vertical-align: top;\n",
       "    }\n",
       "\n",
       "    .dataframe thead th {\n",
       "        text-align: right;\n",
       "    }\n",
       "</style>\n",
       "<table border=\"1\" class=\"dataframe\">\n",
       "  <thead>\n",
       "    <tr style=\"text-align: right;\">\n",
       "      <th></th>\n",
       "      <th>commentable</th>\n",
       "      <th>comment_count</th>\n",
       "      <th>created_at</th>\n",
       "      <th>downloadable</th>\n",
       "      <th>download_count</th>\n",
       "      <th>duration</th>\n",
       "      <th>genre</th>\n",
       "      <th>id</th>\n",
       "      <th>kind</th>\n",
       "      <th>label_name</th>\n",
       "      <th>...</th>\n",
       "      <th>playback_count</th>\n",
       "      <th>public</th>\n",
       "      <th>purchase_url</th>\n",
       "      <th>reposts_count</th>\n",
       "      <th>sharing</th>\n",
       "      <th>state</th>\n",
       "      <th>streamable</th>\n",
       "      <th>tag_list</th>\n",
       "      <th>title</th>\n",
       "      <th>user_id</th>\n",
       "    </tr>\n",
       "  </thead>\n",
       "  <tbody>\n",
       "    <tr>\n",
       "      <th>0</th>\n",
       "      <td>True</td>\n",
       "      <td>219.0</td>\n",
       "      <td>2018-10-28T08:02:52Z</td>\n",
       "      <td>False</td>\n",
       "      <td>0.0</td>\n",
       "      <td>210827</td>\n",
       "      <td>Chill RnB</td>\n",
       "      <td>521020839</td>\n",
       "      <td>track</td>\n",
       "      <td>None</td>\n",
       "      <td>...</td>\n",
       "      <td>6854739.0</td>\n",
       "      <td>True</td>\n",
       "      <td>None</td>\n",
       "      <td>563</td>\n",
       "      <td>public</td>\n",
       "      <td>finished</td>\n",
       "      <td>True</td>\n",
       "      <td>NaN</td>\n",
       "      <td>Nếu mai chia tay ( Hieu Tran Chill RnB Version) - Monstar Ft. Amee</td>\n",
       "      <td>8532516</td>\n",
       "    </tr>\n",
       "    <tr>\n",
       "      <th>1</th>\n",
       "      <td>True</td>\n",
       "      <td>966.0</td>\n",
       "      <td>2018-06-05T01:30:10Z</td>\n",
       "      <td>True</td>\n",
       "      <td>894.0</td>\n",
       "      <td>253698</td>\n",
       "      <td>Pop</td>\n",
       "      <td>453875256</td>\n",
       "      <td>track</td>\n",
       "      <td>None</td>\n",
       "      <td>...</td>\n",
       "      <td>9289692.0</td>\n",
       "      <td>True</td>\n",
       "      <td>None</td>\n",
       "      <td>1148</td>\n",
       "      <td>public</td>\n",
       "      <td>finished</td>\n",
       "      <td>True</td>\n",
       "      <td>vietpop viet ronniboi</td>\n",
       "      <td>Khi co don em nho ai</td>\n",
       "      <td>9423936</td>\n",
       "    </tr>\n",
       "    <tr>\n",
       "      <th>2</th>\n",
       "      <td>True</td>\n",
       "      <td>310.0</td>\n",
       "      <td>2018-10-26T14:46:56Z</td>\n",
       "      <td>False</td>\n",
       "      <td>0.0</td>\n",
       "      <td>250902</td>\n",
       "      <td>SPACESPEAKERS BALLAD</td>\n",
       "      <td>520248870</td>\n",
       "      <td>track</td>\n",
       "      <td>None</td>\n",
       "      <td>...</td>\n",
       "      <td>7714464.0</td>\n",
       "      <td>True</td>\n",
       "      <td>https://itunes.apple.com/vn/album/em-khong-the-feat-touliver-single/1439925351?fbclid=IwAR1WKyRfJ4QlK5TXlWHwH9Ds8XNcQTsD557OcTo2bvasIHzHUZLXfqC6kQk</td>\n",
       "      <td>2044</td>\n",
       "      <td>public</td>\n",
       "      <td>finished</td>\n",
       "      <td>True</td>\n",
       "      <td>TOULIVER TIENTIEN EMKHONGTHE</td>\n",
       "      <td>EM KHONG THE</td>\n",
       "      <td>3900683</td>\n",
       "    </tr>\n",
       "    <tr>\n",
       "      <th>3</th>\n",
       "      <td>True</td>\n",
       "      <td>113.0</td>\n",
       "      <td>2021-06-30T11:36:30Z</td>\n",
       "      <td>False</td>\n",
       "      <td>0.0</td>\n",
       "      <td>174211</td>\n",
       "      <td>R&amp;B</td>\n",
       "      <td>1078746418</td>\n",
       "      <td>track</td>\n",
       "      <td>None</td>\n",
       "      <td>...</td>\n",
       "      <td>1396679.0</td>\n",
       "      <td>True</td>\n",
       "      <td>None</td>\n",
       "      <td>184</td>\n",
       "      <td>public</td>\n",
       "      <td>finished</td>\n",
       "      <td>True</td>\n",
       "      <td>\"Hip Hop\" Rap ONHACHANQUO Taylor TaylorDaClownn. Cozy9ang Pop</td>\n",
       "      <td>Ở NHÀ CHÁN QUÓ (Prod. KanaBeats)</td>\n",
       "      <td>125512733</td>\n",
       "    </tr>\n",
       "    <tr>\n",
       "      <th>4</th>\n",
       "      <td>True</td>\n",
       "      <td>176.0</td>\n",
       "      <td>2020-03-22T08:41:01Z</td>\n",
       "      <td>False</td>\n",
       "      <td>0.0</td>\n",
       "      <td>254694</td>\n",
       "      <td>NaN</td>\n",
       "      <td>780777223</td>\n",
       "      <td>track</td>\n",
       "      <td>None</td>\n",
       "      <td>...</td>\n",
       "      <td>576781.0</td>\n",
       "      <td>True</td>\n",
       "      <td>None</td>\n",
       "      <td>158</td>\n",
       "      <td>public</td>\n",
       "      <td>finished</td>\n",
       "      <td>True</td>\n",
       "      <td>Pop Ballad \"tua \" tùa cm1x</td>\n",
       "      <td>Nếu Anh Thấy Lòng Mình Yếu Đuối - Tùa x CM1X</td>\n",
       "      <td>21985491</td>\n",
       "    </tr>\n",
       "  </tbody>\n",
       "</table>\n",
       "<p>5 rows × 21 columns</p>\n",
       "</div>"
      ],
      "text/plain": [
       "   commentable comment_count            created_at  downloadable  \\\n",
       "0         True         219.0  2018-10-28T08:02:52Z         False   \n",
       "1         True         966.0  2018-06-05T01:30:10Z          True   \n",
       "2         True         310.0  2018-10-26T14:46:56Z         False   \n",
       "3         True         113.0  2021-06-30T11:36:30Z         False   \n",
       "4         True         176.0  2020-03-22T08:41:01Z         False   \n",
       "\n",
       "  download_count  duration                 genre          id   kind  \\\n",
       "0            0.0    210827             Chill RnB   521020839  track   \n",
       "1          894.0    253698                   Pop   453875256  track   \n",
       "2            0.0    250902  SPACESPEAKERS BALLAD   520248870  track   \n",
       "3            0.0    174211                   R&B  1078746418  track   \n",
       "4            0.0    254694                   NaN   780777223  track   \n",
       "\n",
       "  label_name  ... playback_count public  \\\n",
       "0       None  ...      6854739.0   True   \n",
       "1       None  ...      9289692.0   True   \n",
       "2       None  ...      7714464.0   True   \n",
       "3       None  ...      1396679.0   True   \n",
       "4       None  ...       576781.0   True   \n",
       "\n",
       "                                                                                                                                          purchase_url  \\\n",
       "0                                                                                                                                                 None   \n",
       "1                                                                                                                                                 None   \n",
       "2  https://itunes.apple.com/vn/album/em-khong-the-feat-touliver-single/1439925351?fbclid=IwAR1WKyRfJ4QlK5TXlWHwH9Ds8XNcQTsD557OcTo2bvasIHzHUZLXfqC6kQk   \n",
       "3                                                                                                                                                 None   \n",
       "4                                                                                                                                                 None   \n",
       "\n",
       "  reposts_count  sharing     state streamable  \\\n",
       "0           563   public  finished       True   \n",
       "1          1148   public  finished       True   \n",
       "2          2044   public  finished       True   \n",
       "3           184   public  finished       True   \n",
       "4           158   public  finished       True   \n",
       "\n",
       "                                                        tag_list  \\\n",
       "0                                                            NaN   \n",
       "1                                          vietpop viet ronniboi   \n",
       "2                                   TOULIVER TIENTIEN EMKHONGTHE   \n",
       "3  \"Hip Hop\" Rap ONHACHANQUO Taylor TaylorDaClownn. Cozy9ang Pop   \n",
       "4                                     Pop Ballad \"tua \" tùa cm1x   \n",
       "\n",
       "                                                                title  \\\n",
       "0  Nếu mai chia tay ( Hieu Tran Chill RnB Version) - Monstar Ft. Amee   \n",
       "1                                                Khi co don em nho ai   \n",
       "2                                                        EM KHONG THE   \n",
       "3                                    Ở NHÀ CHÁN QUÓ (Prod. KanaBeats)   \n",
       "4                        Nếu Anh Thấy Lòng Mình Yếu Đuối - Tùa x CM1X   \n",
       "\n",
       "     user_id  \n",
       "0    8532516  \n",
       "1    9423936  \n",
       "2    3900683  \n",
       "3  125512733  \n",
       "4   21985491  \n",
       "\n",
       "[5 rows x 21 columns]"
      ]
     },
     "execution_count": 3,
     "metadata": {},
     "output_type": "execute_result"
    }
   ],
   "source": [
    "tracks.head(5)"
   ]
  },
  {
   "cell_type": "markdown",
   "id": "66761e6e",
   "metadata": {},
   "source": [
    "* ý nghĩa các cột trong tập dữ liệu:\n",
    "\n",
    "=> đọc file `track_explain.csv`"
   ]
  },
  {
   "cell_type": "code",
   "execution_count": 4,
   "id": "4d0355e4",
   "metadata": {
    "scrolled": false
   },
   "outputs": [
    {
     "data": {
      "text/html": [
       "<div>\n",
       "<style scoped>\n",
       "    .dataframe tbody tr th:only-of-type {\n",
       "        vertical-align: middle;\n",
       "    }\n",
       "\n",
       "    .dataframe tbody tr th {\n",
       "        vertical-align: top;\n",
       "    }\n",
       "\n",
       "    .dataframe thead th {\n",
       "        text-align: right;\n",
       "    }\n",
       "</style>\n",
       "<table border=\"1\" class=\"dataframe\">\n",
       "  <thead>\n",
       "    <tr style=\"text-align: right;\">\n",
       "      <th></th>\n",
       "      <th>mean</th>\n",
       "    </tr>\n",
       "  </thead>\n",
       "  <tbody>\n",
       "    <tr>\n",
       "      <th>id</th>\n",
       "      <td>Id của track đó</td>\n",
       "    </tr>\n",
       "    <tr>\n",
       "      <th>genre</th>\n",
       "      <td>thể loại</td>\n",
       "    </tr>\n",
       "    <tr>\n",
       "      <th>user_id</th>\n",
       "      <td>user id của tác giả của track này</td>\n",
       "    </tr>\n",
       "    <tr>\n",
       "      <th>created_at</th>\n",
       "      <td>thời gian tạo (đăng track)</td>\n",
       "    </tr>\n",
       "    <tr>\n",
       "      <th>duration</th>\n",
       "      <td>là khoảng thời gian hoặc khoảng thời gian dài hay ngắn của một nốt nhạc, cụm từ, phần hoặc sáng tác</td>\n",
       "    </tr>\n",
       "    <tr>\n",
       "      <th>comment_count</th>\n",
       "      <td>số lượng comment</td>\n",
       "    </tr>\n",
       "    <tr>\n",
       "      <th>likes_count</th>\n",
       "      <td>số lượng like</td>\n",
       "    </tr>\n",
       "    <tr>\n",
       "      <th>playback_count</th>\n",
       "      <td>số lượng lượt nghe</td>\n",
       "    </tr>\n",
       "    <tr>\n",
       "      <th>reposts_count</th>\n",
       "      <td>số lượng repost</td>\n",
       "    </tr>\n",
       "    <tr>\n",
       "      <th>commentable</th>\n",
       "      <td>track có cho phép comment hay không?</td>\n",
       "    </tr>\n",
       "    <tr>\n",
       "      <th>downloadable</th>\n",
       "      <td>track này có cho download hay không?</td>\n",
       "    </tr>\n",
       "    <tr>\n",
       "      <th>download_count</th>\n",
       "      <td>track này có bao nhiêu lượt tải về</td>\n",
       "    </tr>\n",
       "    <tr>\n",
       "      <th>kind</th>\n",
       "      <td>thể loại gì (track hay playlist)</td>\n",
       "    </tr>\n",
       "    <tr>\n",
       "      <th>label_name</th>\n",
       "      <td>tên của hãng sở hữu track này</td>\n",
       "    </tr>\n",
       "    <tr>\n",
       "      <th>public</th>\n",
       "      <td>track này có công khai hay không?</td>\n",
       "    </tr>\n",
       "    <tr>\n",
       "      <th>purchase_url</th>\n",
       "      <td>link để mua track này (nếu không có thì track miễn phí tải)</td>\n",
       "    </tr>\n",
       "    <tr>\n",
       "      <th>streamable</th>\n",
       "      <td>có cho phép stream hay không</td>\n",
       "    </tr>\n",
       "    <tr>\n",
       "      <th>tag_list</th>\n",
       "      <td>danh sách các tag của track này</td>\n",
       "    </tr>\n",
       "    <tr>\n",
       "      <th>title</th>\n",
       "      <td>tên của track</td>\n",
       "    </tr>\n",
       "    <tr>\n",
       "      <th>state</th>\n",
       "      <td>trạng thái của track</td>\n",
       "    </tr>\n",
       "  </tbody>\n",
       "</table>\n",
       "</div>"
      ],
      "text/plain": [
       "                                                                                                               mean\n",
       "id                                                                                                  Id của track đó\n",
       "genre                                                                                                      thể loại\n",
       "user_id                                                                           user id của tác giả của track này\n",
       "created_at                                                                               thời gian tạo (đăng track)\n",
       "duration        là khoảng thời gian hoặc khoảng thời gian dài hay ngắn của một nốt nhạc, cụm từ, phần hoặc sáng tác\n",
       "comment_count                                                                                      số lượng comment\n",
       "likes_count                                                                                           số lượng like\n",
       "playback_count                                                                                   số lượng lượt nghe\n",
       "reposts_count                                                                                       số lượng repost\n",
       "commentable                                                                    track có cho phép comment hay không?\n",
       "downloadable                                                                   track này có cho download hay không?\n",
       "download_count                                                                   track này có bao nhiêu lượt tải về\n",
       "kind                                                                               thể loại gì (track hay playlist)\n",
       "label_name                                                                            tên của hãng sở hữu track này\n",
       "public                                                                            track này có công khai hay không?\n",
       "purchase_url                                            link để mua track này (nếu không có thì track miễn phí tải)\n",
       "streamable                                                                             có cho phép stream hay không\n",
       "tag_list                                                                            danh sách các tag của track này\n",
       "title                                                                                                 tên của track\n",
       "state                                                                                          trạng thái của track"
      ]
     },
     "execution_count": 4,
     "metadata": {},
     "output_type": "execute_result"
    }
   ],
   "source": [
    "track_ex = pd.read_csv(\"track_explain.csv\", index_col=0)\n",
    "track_ex"
   ]
  },
  {
   "cell_type": "markdown",
   "id": "b36b7f74",
   "metadata": {},
   "source": [
    "### Tập dữ liệu `user.csv`:"
   ]
  },
  {
   "cell_type": "code",
   "execution_count": 5,
   "id": "726c4c42",
   "metadata": {
    "scrolled": false
   },
   "outputs": [
    {
     "data": {
      "text/html": [
       "<div>\n",
       "<style scoped>\n",
       "    .dataframe tbody tr th:only-of-type {\n",
       "        vertical-align: middle;\n",
       "    }\n",
       "\n",
       "    .dataframe tbody tr th {\n",
       "        vertical-align: top;\n",
       "    }\n",
       "\n",
       "    .dataframe thead th {\n",
       "        text-align: right;\n",
       "    }\n",
       "</style>\n",
       "<table border=\"1\" class=\"dataframe\">\n",
       "  <thead>\n",
       "    <tr style=\"text-align: right;\">\n",
       "      <th></th>\n",
       "      <th>comments_count</th>\n",
       "      <th>country_code</th>\n",
       "      <th>created_at</th>\n",
       "      <th>creator_subscriptions</th>\n",
       "      <th>followers_count</th>\n",
       "      <th>followings_count</th>\n",
       "      <th>full_name</th>\n",
       "      <th>id</th>\n",
       "      <th>kind</th>\n",
       "      <th>likes_count</th>\n",
       "      <th>playlist_likes_count</th>\n",
       "      <th>verified</th>\n",
       "      <th>playlist_count</th>\n",
       "      <th>reposts_count</th>\n",
       "      <th>track_count</th>\n",
       "      <th>username</th>\n",
       "      <th>badges</th>\n",
       "    </tr>\n",
       "  </thead>\n",
       "  <tbody>\n",
       "    <tr>\n",
       "      <th>0</th>\n",
       "      <td>44</td>\n",
       "      <td>VN</td>\n",
       "      <td>2011-10-31T10:24:30Z</td>\n",
       "      <td>[{'product': {'id': 'creator-pro-unlimited'}}]</td>\n",
       "      <td>2700</td>\n",
       "      <td>2</td>\n",
       "      <td>Hieu Tran</td>\n",
       "      <td>8532516</td>\n",
       "      <td>user</td>\n",
       "      <td>99</td>\n",
       "      <td>3</td>\n",
       "      <td>False</td>\n",
       "      <td>6</td>\n",
       "      <td>None</td>\n",
       "      <td>79</td>\n",
       "      <td>Hieu Tran Music Producer</td>\n",
       "      <td>{'pro': False, 'pro_unlimited': True, 'verified': False}</td>\n",
       "    </tr>\n",
       "    <tr>\n",
       "      <th>1</th>\n",
       "      <td>37</td>\n",
       "      <td>AU</td>\n",
       "      <td>2011-12-02T06:59:50Z</td>\n",
       "      <td>[{'product': {'id': 'creator-pro'}}]</td>\n",
       "      <td>7544</td>\n",
       "      <td>110</td>\n",
       "      <td>NaN</td>\n",
       "      <td>9423936</td>\n",
       "      <td>user</td>\n",
       "      <td>631</td>\n",
       "      <td>4</td>\n",
       "      <td>False</td>\n",
       "      <td>3</td>\n",
       "      <td>None</td>\n",
       "      <td>59</td>\n",
       "      <td>Ronniboi</td>\n",
       "      <td>{'pro': True, 'pro_unlimited': False, 'verified': False}</td>\n",
       "    </tr>\n",
       "    <tr>\n",
       "      <th>2</th>\n",
       "      <td>9</td>\n",
       "      <td>None</td>\n",
       "      <td>2011-03-29T06:34:41Z</td>\n",
       "      <td>[{'product': {'id': 'creator-pro-unlimited'}}]</td>\n",
       "      <td>171517</td>\n",
       "      <td>68</td>\n",
       "      <td>NaN</td>\n",
       "      <td>3900683</td>\n",
       "      <td>user</td>\n",
       "      <td>3</td>\n",
       "      <td>0</td>\n",
       "      <td>True</td>\n",
       "      <td>5</td>\n",
       "      <td>None</td>\n",
       "      <td>181</td>\n",
       "      <td>Touliver</td>\n",
       "      <td>{'pro': False, 'pro_unlimited': True, 'verified': True}</td>\n",
       "    </tr>\n",
       "    <tr>\n",
       "      <th>3</th>\n",
       "      <td>267</td>\n",
       "      <td>None</td>\n",
       "      <td>2014-11-30T14:55:30Z</td>\n",
       "      <td>[{'product': {'id': 'free'}}]</td>\n",
       "      <td>2138</td>\n",
       "      <td>44</td>\n",
       "      <td>Taylor.</td>\n",
       "      <td>125512733</td>\n",
       "      <td>user</td>\n",
       "      <td>648</td>\n",
       "      <td>7</td>\n",
       "      <td>True</td>\n",
       "      <td>0</td>\n",
       "      <td>None</td>\n",
       "      <td>33</td>\n",
       "      <td>TaylorDaClownn.</td>\n",
       "      <td>{'pro': False, 'pro_unlimited': False, 'verified': True}</td>\n",
       "    </tr>\n",
       "    <tr>\n",
       "      <th>4</th>\n",
       "      <td>2</td>\n",
       "      <td>VN</td>\n",
       "      <td>2012-08-12T01:43:05Z</td>\n",
       "      <td>[{'product': {'id': 'free'}}]</td>\n",
       "      <td>5732</td>\n",
       "      <td>8</td>\n",
       "      <td>Quynh Nhu Tran</td>\n",
       "      <td>21985491</td>\n",
       "      <td>user</td>\n",
       "      <td>166</td>\n",
       "      <td>1</td>\n",
       "      <td>True</td>\n",
       "      <td>1</td>\n",
       "      <td>None</td>\n",
       "      <td>9</td>\n",
       "      <td>TÙA</td>\n",
       "      <td>{'pro': False, 'pro_unlimited': False, 'verified': True}</td>\n",
       "    </tr>\n",
       "  </tbody>\n",
       "</table>\n",
       "</div>"
      ],
      "text/plain": [
       "   comments_count country_code            created_at  \\\n",
       "0              44           VN  2011-10-31T10:24:30Z   \n",
       "1              37           AU  2011-12-02T06:59:50Z   \n",
       "2               9         None  2011-03-29T06:34:41Z   \n",
       "3             267         None  2014-11-30T14:55:30Z   \n",
       "4               2           VN  2012-08-12T01:43:05Z   \n",
       "\n",
       "                            creator_subscriptions  followers_count  \\\n",
       "0  [{'product': {'id': 'creator-pro-unlimited'}}]             2700   \n",
       "1            [{'product': {'id': 'creator-pro'}}]             7544   \n",
       "2  [{'product': {'id': 'creator-pro-unlimited'}}]           171517   \n",
       "3                   [{'product': {'id': 'free'}}]             2138   \n",
       "4                   [{'product': {'id': 'free'}}]             5732   \n",
       "\n",
       "   followings_count       full_name         id  kind  likes_count  \\\n",
       "0                 2       Hieu Tran    8532516  user           99   \n",
       "1               110             NaN    9423936  user          631   \n",
       "2                68             NaN    3900683  user            3   \n",
       "3                44         Taylor.  125512733  user          648   \n",
       "4                 8  Quynh Nhu Tran   21985491  user          166   \n",
       "\n",
       "   playlist_likes_count  verified  playlist_count reposts_count  track_count  \\\n",
       "0                     3     False               6          None           79   \n",
       "1                     4     False               3          None           59   \n",
       "2                     0      True               5          None          181   \n",
       "3                     7      True               0          None           33   \n",
       "4                     1      True               1          None            9   \n",
       "\n",
       "                   username  \\\n",
       "0  Hieu Tran Music Producer   \n",
       "1                  Ronniboi   \n",
       "2                  Touliver   \n",
       "3           TaylorDaClownn.   \n",
       "4                       TÙA   \n",
       "\n",
       "                                                     badges  \n",
       "0  {'pro': False, 'pro_unlimited': True, 'verified': False}  \n",
       "1  {'pro': True, 'pro_unlimited': False, 'verified': False}  \n",
       "2   {'pro': False, 'pro_unlimited': True, 'verified': True}  \n",
       "3  {'pro': False, 'pro_unlimited': False, 'verified': True}  \n",
       "4  {'pro': False, 'pro_unlimited': False, 'verified': True}  "
      ]
     },
     "execution_count": 5,
     "metadata": {},
     "output_type": "execute_result"
    }
   ],
   "source": [
    "users.head(5)"
   ]
  },
  {
   "cell_type": "markdown",
   "id": "00d4cba9",
   "metadata": {},
   "source": [
    "* ý nghĩa các cột trong tập dữ liệu:\n",
    "\n",
    "=> đọc file `user_explain.csv`"
   ]
  },
  {
   "cell_type": "code",
   "execution_count": 6,
   "id": "06e663f3",
   "metadata": {},
   "outputs": [
    {
     "data": {
      "text/html": [
       "<div>\n",
       "<style scoped>\n",
       "    .dataframe tbody tr th:only-of-type {\n",
       "        vertical-align: middle;\n",
       "    }\n",
       "\n",
       "    .dataframe tbody tr th {\n",
       "        vertical-align: top;\n",
       "    }\n",
       "\n",
       "    .dataframe thead th {\n",
       "        text-align: right;\n",
       "    }\n",
       "</style>\n",
       "<table border=\"1\" class=\"dataframe\">\n",
       "  <thead>\n",
       "    <tr style=\"text-align: right;\">\n",
       "      <th></th>\n",
       "      <th>mean</th>\n",
       "    </tr>\n",
       "  </thead>\n",
       "  <tbody>\n",
       "    <tr>\n",
       "      <th>id</th>\n",
       "      <td>id của user</td>\n",
       "    </tr>\n",
       "    <tr>\n",
       "      <th>full_name</th>\n",
       "      <td>full name của User</td>\n",
       "    </tr>\n",
       "    <tr>\n",
       "      <th>city</th>\n",
       "      <td>thành phố của user</td>\n",
       "    </tr>\n",
       "    <tr>\n",
       "      <th>created_at</th>\n",
       "      <td>thời gian tạo tài khoản</td>\n",
       "    </tr>\n",
       "    <tr>\n",
       "      <th>likes_count</th>\n",
       "      <td>số lượng track mà user đó like</td>\n",
       "    </tr>\n",
       "    <tr>\n",
       "      <th>playlist_count</th>\n",
       "      <td>số lượng playlist</td>\n",
       "    </tr>\n",
       "    <tr>\n",
       "      <th>comments_count</th>\n",
       "      <td>số lượng comment của User</td>\n",
       "    </tr>\n",
       "    <tr>\n",
       "      <th>track_count</th>\n",
       "      <td>số lượng track của User</td>\n",
       "    </tr>\n",
       "    <tr>\n",
       "      <th>followers_count</th>\n",
       "      <td>số lượng follow của User</td>\n",
       "    </tr>\n",
       "    <tr>\n",
       "      <th>followings_count</th>\n",
       "      <td>số lượng các tài khoản mà User này follow</td>\n",
       "    </tr>\n",
       "    <tr>\n",
       "      <th>country_code</th>\n",
       "      <td>mã đất nước vd: VN; AU; US v.v..</td>\n",
       "    </tr>\n",
       "    <tr>\n",
       "      <th>creator_subscriptions</th>\n",
       "      <td>kiểu đăng ký bản quyền cho nội dung sáng tạo.</td>\n",
       "    </tr>\n",
       "    <tr>\n",
       "      <th>kind</th>\n",
       "      <td>loại người dùng</td>\n",
       "    </tr>\n",
       "    <tr>\n",
       "      <th>username</th>\n",
       "      <td>username của người dùng</td>\n",
       "    </tr>\n",
       "    <tr>\n",
       "      <th>badges</th>\n",
       "      <td>huy hiệu của người dùng</td>\n",
       "    </tr>\n",
       "  </tbody>\n",
       "</table>\n",
       "</div>"
      ],
      "text/plain": [
       "                                                                mean\n",
       "id                                                       id của user\n",
       "full_name                                         full name của User\n",
       "city                                              thành phố của user\n",
       "created_at                                   thời gian tạo tài khoản\n",
       "likes_count                           số lượng track mà user đó like\n",
       "playlist_count                                     số lượng playlist\n",
       "comments_count                             số lượng comment của User\n",
       "track_count                                  số lượng track của User\n",
       "followers_count                             số lượng follow của User\n",
       "followings_count           số lượng các tài khoản mà User này follow\n",
       "country_code                        mã đất nước vd: VN; AU; US v.v..\n",
       "creator_subscriptions  kiểu đăng ký bản quyền cho nội dung sáng tạo.\n",
       "kind                                                 loại người dùng\n",
       "username                                     username của người dùng\n",
       "badges                                       huy hiệu của người dùng"
      ]
     },
     "execution_count": 6,
     "metadata": {},
     "output_type": "execute_result"
    }
   ],
   "source": [
    "user_ex = pd.read_csv(\"user_explain.csv\", index_col=0)\n",
    "user_ex"
   ]
  },
  {
   "cell_type": "markdown",
   "id": "869f835d",
   "metadata": {},
   "source": [
    "## Mỗi tập dữ liệu có bao nhiêu dòng và cột?"
   ]
  },
  {
   "cell_type": "code",
   "execution_count": 7,
   "id": "cc7ffb10",
   "metadata": {},
   "outputs": [
    {
     "name": "stdout",
     "output_type": "stream",
     "text": [
      "Track dataset have 1360 rows and 21 columns\n"
     ]
    }
   ],
   "source": [
    "n_row_tracks, n_col_tracks = tracks.shape\n",
    "print(\"Track dataset have {} rows and {} columns\".format(n_row_tracks, n_col_tracks))"
   ]
  },
  {
   "cell_type": "code",
   "execution_count": 8,
   "id": "487cc50f",
   "metadata": {},
   "outputs": [
    {
     "name": "stdout",
     "output_type": "stream",
     "text": [
      "User dataset have 1101 rows and 17 columns\n"
     ]
    }
   ],
   "source": [
    "n_row_users, n_col_users = users.shape\n",
    "print(\"User dataset have {} rows and {} columns\".format(n_row_users, n_col_users))"
   ]
  },
  {
   "cell_type": "markdown",
   "id": "0058d42b",
   "metadata": {},
   "source": [
    "## Dữ liệu có các dòng bị lặp không?"
   ]
  },
  {
   "cell_type": "markdown",
   "id": "3ed27d75",
   "metadata": {},
   "source": [
    "### Tập dữ liệu track:"
   ]
  },
  {
   "cell_type": "code",
   "execution_count": 9,
   "id": "fc651873",
   "metadata": {},
   "outputs": [
    {
     "name": "stdout",
     "output_type": "stream",
     "text": [
      "Number of Duplicated rows in Track dataset: 0\n"
     ]
    }
   ],
   "source": [
    "num_duplicated_tracks = tracks.index.value_counts().sum() - tracks.shape[0]\n",
    "print(\"Number of Duplicated rows in Track dataset: {}\".format(num_duplicated_tracks))"
   ]
  },
  {
   "cell_type": "markdown",
   "id": "63707722",
   "metadata": {},
   "source": [
    "### Tập dữ liệu user:"
   ]
  },
  {
   "cell_type": "code",
   "execution_count": 10,
   "id": "17670c40",
   "metadata": {},
   "outputs": [
    {
     "name": "stdout",
     "output_type": "stream",
     "text": [
      "Number of Duplicated rows in User dataset: 0\n"
     ]
    }
   ],
   "source": [
    "num_duplicated_users = users.index.value_counts().sum() - users.shape[0]\n",
    "print(\"Number of Duplicated rows in User dataset: {}\".format(num_duplicated_tracks))"
   ]
  },
  {
   "cell_type": "markdown",
   "id": "c4527bf0",
   "metadata": {},
   "source": [
    "## Có dữ liệu bị thiếu hay không?"
   ]
  },
  {
   "cell_type": "markdown",
   "id": "bae2c0f1",
   "metadata": {},
   "source": [
    "### Lấy ra các cột có giá trị bị thiếu:"
   ]
  },
  {
   "cell_type": "markdown",
   "id": "ddf3ff38",
   "metadata": {},
   "source": [
    "<font color=\"green\">**Tập dữ liệu tracks.csv**"
   ]
  },
  {
   "cell_type": "code",
   "execution_count": 11,
   "id": "e87e8913",
   "metadata": {
    "scrolled": true
   },
   "outputs": [
    {
     "name": "stdout",
     "output_type": "stream",
     "text": [
      "All columns that include missing value in tracks.csv: \n",
      " ['genre', 'label_name', 'tag_list']\n"
     ]
    }
   ],
   "source": [
    "# tracks.csv\n",
    "tracks_missing_cols = [col for col in tracks.columns if tracks[col].isna().any()]\n",
    "\n",
    "print(\"All columns that include missing value in tracks.csv: \\n\", tracks_missing_cols)"
   ]
  },
  {
   "cell_type": "markdown",
   "id": "52ef1e7a",
   "metadata": {},
   "source": [
    "<font color=\"green\">**Tập dữ liệu users.csv**"
   ]
  },
  {
   "cell_type": "code",
   "execution_count": 12,
   "id": "11ea6fc0",
   "metadata": {},
   "outputs": [
    {
     "name": "stdout",
     "output_type": "stream",
     "text": [
      "All columns that include missing value in users.csv: \n",
      " ['country_code', 'full_name']\n"
     ]
    }
   ],
   "source": [
    "# users.csv\n",
    "users_missing_cols = [col for col in users.columns if users[col].isna().any()]\n",
    "\n",
    "print(\"All columns that include missing value in users.csv: \\n\", users_missing_cols)"
   ]
  },
  {
   "cell_type": "markdown",
   "id": "18e3cb60",
   "metadata": {},
   "source": [
    "### Phần trăm (%) giá trị bị thiếu của mỗi cột:"
   ]
  },
  {
   "cell_type": "markdown",
   "id": "0bf287df",
   "metadata": {},
   "source": [
    "<font color=\"green\">**Tập dữ liệu tracks.csv**"
   ]
  },
  {
   "cell_type": "code",
   "execution_count": 13,
   "id": "6c2baab0",
   "metadata": {},
   "outputs": [
    {
     "data": {
      "text/plain": [
       "genre         18.382353\n",
       "label_name    16.911765\n",
       "tag_list      32.794118\n",
       "dtype: float64"
      ]
     },
     "execution_count": 13,
     "metadata": {},
     "output_type": "execute_result"
    }
   ],
   "source": [
    "(tracks[tracks_missing_cols].isna().sum() / n_row_tracks)*100"
   ]
  },
  {
   "cell_type": "markdown",
   "id": "4e8408f4",
   "metadata": {},
   "source": [
    "Tập dữ liệu `tracks.csv` có tổng cộng 1360 dòng và 21 cột.\n",
    "- cột `tag_list` có 33% giá trị bị thiếu => xóa cột `tag_list`.\n",
    "- cột `label_name` có 17% giá trị bị thiếu => điền thêm vào.\n",
    "- cột `genre` có 18% giá trị bị thiếu => điền thêm vào."
   ]
  },
  {
   "cell_type": "markdown",
   "id": "67aaaada",
   "metadata": {},
   "source": [
    "xóa cột `tag_list` và điền giá trị `'None'` vào cột `label_name` và `genre`"
   ]
  },
  {
   "cell_type": "code",
   "execution_count": 14,
   "id": "74c6e89b",
   "metadata": {},
   "outputs": [],
   "source": [
    "tracks.drop('tag_list', inplace=True, axis=1)"
   ]
  },
  {
   "cell_type": "code",
   "execution_count": 15,
   "id": "da9afb8c",
   "metadata": {},
   "outputs": [],
   "source": [
    "tracks[\"label_name\"].fillna(\"None\", axis=0, inplace=True)\n",
    "tracks[\"genre\"].fillna(\"None\", axis=0, inplace=True)"
   ]
  },
  {
   "cell_type": "markdown",
   "id": "cbd1a99e",
   "metadata": {},
   "source": [
    "<font color=\"green\">**Tập dữ liệu users.csv**"
   ]
  },
  {
   "cell_type": "code",
   "execution_count": 16,
   "id": "c106c5a8",
   "metadata": {},
   "outputs": [
    {
     "data": {
      "text/plain": [
       "country_code     0.272480\n",
       "full_name       33.969119\n",
       "dtype: float64"
      ]
     },
     "execution_count": 16,
     "metadata": {},
     "output_type": "execute_result"
    }
   ],
   "source": [
    "(users[users_missing_cols].isna().sum() / n_row_users)*100"
   ]
  },
  {
   "cell_type": "markdown",
   "id": "89cb5100",
   "metadata": {},
   "source": [
    "Tập dữ liệu `users.csv` có tổng cộng 1360 dòng và 21 cột.\n",
    "- cột `full_name` có 34% giá trị bị thiếu => xóa cột `full_name`.\n",
    "- cột `country_code` có 0.27% giá trị bị thiếu => điền thêm vào."
   ]
  },
  {
   "cell_type": "markdown",
   "id": "977af642",
   "metadata": {},
   "source": [
    "xóa cột `full_name` và điền giá trị `'None'` vào cột `country_code`"
   ]
  },
  {
   "cell_type": "code",
   "execution_count": 17,
   "id": "83afc18e",
   "metadata": {},
   "outputs": [],
   "source": [
    "users.drop('full_name', inplace=True, axis=1)"
   ]
  },
  {
   "cell_type": "code",
   "execution_count": 18,
   "id": "5bf6a603",
   "metadata": {},
   "outputs": [],
   "source": [
    "users['country_code'].fillna(\"None\", axis=0, inplace=True)"
   ]
  },
  {
   "cell_type": "markdown",
   "id": "8f0a41a1",
   "metadata": {},
   "source": [
    "## Mỗi cột hiện đang có kiểu dữ liệu gì? Có cột nào có kiểu dữ liệu chưa phù hợp để có thể xử lý tiếp không?"
   ]
  },
  {
   "cell_type": "markdown",
   "id": "20db663f",
   "metadata": {},
   "source": [
    "* cột dữ liệu ngày tháng đang là kiểu dữ liệu gì?"
   ]
  },
  {
   "cell_type": "code",
   "execution_count": 19,
   "id": "0306c16c",
   "metadata": {},
   "outputs": [
    {
     "data": {
      "text/plain": [
       "dtype('O')"
      ]
     },
     "execution_count": 19,
     "metadata": {},
     "output_type": "execute_result"
    }
   ],
   "source": [
    "tracks[\"created_at\"].dtype"
   ]
  },
  {
   "cell_type": "code",
   "execution_count": 20,
   "id": "abb8995d",
   "metadata": {},
   "outputs": [
    {
     "data": {
      "text/plain": [
       "dtype('O')"
      ]
     },
     "execution_count": 20,
     "metadata": {},
     "output_type": "execute_result"
    }
   ],
   "source": [
    "users[\"created_at\"].dtype"
   ]
  },
  {
   "cell_type": "markdown",
   "id": "8acd11a5",
   "metadata": {},
   "source": [
    "=> như đã thấy thì 2 cột dữ liệu ngày tháng năm có kiểu dữ liệu `\"object\"`\n",
    "* vậy chúng ta phải chuyển về kiểu `datetime`."
   ]
  },
  {
   "cell_type": "markdown",
   "id": "995602b6",
   "metadata": {},
   "source": [
    "# Chuyển sang bước tiền xử lý"
   ]
  },
  {
   "cell_type": "code",
   "execution_count": 21,
   "id": "53c2f90f",
   "metadata": {},
   "outputs": [],
   "source": [
    "def conv2date(row):\n",
    "    return datetime.fromisoformat(row[:-1])"
   ]
  },
  {
   "cell_type": "code",
   "execution_count": 22,
   "id": "60815a77",
   "metadata": {},
   "outputs": [],
   "source": [
    "tracks[\"created_at\"] = tracks[\"created_at\"].apply(conv2date)\n",
    "users[\"created_at\"] = users[\"created_at\"].apply(conv2date)"
   ]
  },
  {
   "cell_type": "markdown",
   "id": "cb7f7b5f",
   "metadata": {},
   "source": [
    "* kiểu dữ liệu hiện tại của cột `created_at`"
   ]
  },
  {
   "cell_type": "code",
   "execution_count": 23,
   "id": "1176b26e",
   "metadata": {},
   "outputs": [
    {
     "data": {
      "text/plain": [
       "dtype('<M8[ns]')"
      ]
     },
     "execution_count": 23,
     "metadata": {},
     "output_type": "execute_result"
    }
   ],
   "source": [
    "tracks['created_at'].dtypes"
   ]
  },
  {
   "cell_type": "code",
   "execution_count": 24,
   "id": "dfedca47",
   "metadata": {
    "scrolled": true
   },
   "outputs": [
    {
     "data": {
      "text/plain": [
       "dtype('<M8[ns]')"
      ]
     },
     "execution_count": 24,
     "metadata": {},
     "output_type": "execute_result"
    }
   ],
   "source": [
    "users[\"created_at\"].dtype"
   ]
  },
  {
   "cell_type": "markdown",
   "id": "f51cbac0",
   "metadata": {},
   "source": [
    "# Quay lại bước khám phá"
   ]
  },
  {
   "cell_type": "markdown",
   "id": "ab8451e7",
   "metadata": {},
   "source": [
    "* Kiểu dữ liệu của cột `likes_count` trong `tracks.csv`"
   ]
  },
  {
   "cell_type": "code",
   "execution_count": 25,
   "id": "03081633",
   "metadata": {},
   "outputs": [
    {
     "data": {
      "text/plain": [
       "dtype('O')"
      ]
     },
     "execution_count": 25,
     "metadata": {},
     "output_type": "execute_result"
    }
   ],
   "source": [
    "tracks[\"likes_count\"].dtype"
   ]
  },
  {
   "cell_type": "markdown",
   "id": "afb06db0",
   "metadata": {},
   "source": [
    "=> vậy phải chuyển sang kiểu `int`."
   ]
  },
  {
   "cell_type": "markdown",
   "id": "566ea7c9",
   "metadata": {},
   "source": [
    "# Chuyển sang bước tiền xử lý"
   ]
  },
  {
   "cell_type": "code",
   "execution_count": 26,
   "id": "4bccd9cd",
   "metadata": {},
   "outputs": [],
   "source": [
    "def conv2int(row):\n",
    "    if row == \"None\":\n",
    "        return 0\n",
    "    else:\n",
    "        return int(float(row))"
   ]
  },
  {
   "cell_type": "code",
   "execution_count": 27,
   "id": "94fb7283",
   "metadata": {},
   "outputs": [],
   "source": [
    "tracks[\"likes_count\"] = tracks[\"likes_count\"].apply(conv2int)"
   ]
  },
  {
   "cell_type": "markdown",
   "id": "4b960f25",
   "metadata": {},
   "source": [
    "* Xem lại dữ liệu của cột `likes_count`"
   ]
  },
  {
   "cell_type": "code",
   "execution_count": 28,
   "id": "f3a7d996",
   "metadata": {},
   "outputs": [
    {
     "data": {
      "text/plain": [
       "dtype('int64')"
      ]
     },
     "execution_count": 28,
     "metadata": {},
     "output_type": "execute_result"
    }
   ],
   "source": [
    "tracks[\"likes_count\"].dtype"
   ]
  },
  {
   "cell_type": "markdown",
   "id": "6c4695fa",
   "metadata": {},
   "source": [
    "=> kiểu dữ liệu đã phù hợp."
   ]
  },
  {
   "cell_type": "markdown",
   "id": "ee152ba6",
   "metadata": {},
   "source": [
    "---"
   ]
  },
  {
   "cell_type": "markdown",
   "id": "e852de47",
   "metadata": {},
   "source": [
    "# Câu hỏi 1:"
   ]
  },
  {
   "cell_type": "markdown",
   "id": "af20a067",
   "metadata": {},
   "source": [
    "## Đưa ra câu hỏi có ý nghĩa cần trả lời"
   ]
  },
  {
   "cell_type": "markdown",
   "id": "3e244240",
   "metadata": {},
   "source": [
    "**Soundcloud** cho phép người dùng đăng tải các *bài hát, podcast các nội dung sáng tạo dưới dạng âm thanh* để chia sẻ với mọi người và mọi ở khắp mọi nơi có thể nghe miễn phí ở trên **SoundCloud** tất cả các sản phẩm sáng tạo do các người dùng khác đăng tải.\\\n",
    "Bên cạnh đó **SoundCloud** còn cho phép người dùng thêm các đường dẫn đến trang thượng mại khác để người dùng có thể mua các sản phẩm sáng tạo của họ.\\\n",
    "=> từ dữ liệu về số lượng người dùng đăng tải đường dẫn bán các nội dung sáng tạo của bản thận qua từng năm, thì chúng ta có nhận xét gì về **nhu cầu thương mại hay xu hướng thương mại hóa(tăng/giảm)** hiện nay?\\\n",
    "<font color=\"red\">**=> Và liệu SoundCloud có nên trở thành bên thứ 3 để giúp người dùng có nhu cầu bán các sản phẩm của mình (giống như Itunes của Apple Inc)**</font>"
   ]
  },
  {
   "cell_type": "markdown",
   "id": "dead2748",
   "metadata": {},
   "source": [
    "### Câu hỏi cần trả lời: Số lượng người dùng đăng tải các đường dẫn mua 'track' như thế nào qua từng năm (trong 7 năm gần đây nhất)"
   ]
  },
  {
   "cell_type": "markdown",
   "id": "8e1fe576",
   "metadata": {},
   "source": [
    "> Khi có được dữ liệu chúng ta có thể trực quan hóa ,phân tích và đưa ra nhận xét về nhu cầu thương mại của người dùng."
   ]
  },
  {
   "cell_type": "markdown",
   "id": "0652d900",
   "metadata": {},
   "source": [
    "---"
   ]
  },
  {
   "cell_type": "markdown",
   "id": "013fafab",
   "metadata": {},
   "source": [
    "## Mong đợi về tập dữ liệu"
   ]
  },
  {
   "cell_type": "markdown",
   "id": "b38f8721",
   "metadata": {},
   "source": [
    "Mong muốn Số lượng track được đăng tải lên SoundCloud có chứa purchase_url có sự tăng lên rõ rệt qua từng năm. Do các nghệ sĩ Indie (các nghệ sĩ độc lập) ngày càng nhiều, họ chưa nổi tiếng chưa có số lượng fan đông đảo, thay vì kiếm tiền qua việc tổ chức các buổi biểu diễn trực tiếp thì các nghệ sĩ Indie kiếm tiền bằng việc bán các sản phẩm âm nhạc của mình hoặc kiếm tiền qua chương trình đối tác của Youtube, thì các nền tảng nghe nhạc trực tuyến như SoundCloud sẽ là công cụ để họ kiếm tiền."
   ]
  },
  {
   "cell_type": "markdown",
   "id": "a5621eb6",
   "metadata": {},
   "source": [
    "---"
   ]
  },
  {
   "cell_type": "markdown",
   "id": "95f2b620",
   "metadata": {},
   "source": [
    "## Danh sách kiểm tra phân tích dữ liệu"
   ]
  },
  {
   "cell_type": "markdown",
   "id": "a09bce5d",
   "metadata": {},
   "source": [
    "* **Xác định dữ liệu dùng để phân tích:**\n",
    "    * cột `created_at` của tập dữ liệu `tracks`.\n",
    "    * cột `purchase_url` của tập dữ liệu `tracks`.\n",
    "* **Tiền xử lý dữ liệu:**\n",
    "    * cột `created_at` (đã xử lý ở trên).\n",
    "    * cột `purchase_url` (chưa được xử lý).\n",
    "* **Trực quan hóa dữ liệu:**\n",
    "    * trực quan hóa dữ liệu đơn biến (chưa).\n",
    "    * trực quan hóa dữ liệu đa biến (chưa)\n",
    "* **Có thể trả lời câu hỏi trên dữ liệu hiện có**\n",
    "    * hiện tại không thể trả lời câu hỏi. $\\to$ cần phải trích xuất dữ liệu.\n",
    "* **Giải thích dữ liệu và đưa ra câu trả lời**"
   ]
  },
  {
   "cell_type": "markdown",
   "id": "0071c835",
   "metadata": {},
   "source": [
    "## Phân tích dữ liệu để trả lời cho câu hỏi"
   ]
  },
  {
   "cell_type": "markdown",
   "id": "51202cd4",
   "metadata": {},
   "source": [
    "### Tiền xử lý:"
   ]
  },
  {
   "cell_type": "markdown",
   "id": "00b82b85",
   "metadata": {},
   "source": [
    "Hàm lấy ra năm:"
   ]
  },
  {
   "cell_type": "code",
   "execution_count": 37,
   "id": "6f2efecb",
   "metadata": {},
   "outputs": [],
   "source": [
    "def getYear(row):\n",
    "    return row.year"
   ]
  },
  {
   "cell_type": "markdown",
   "id": "0a52eeb1",
   "metadata": {},
   "source": [
    "Hàm đưa các dòng mang chuỗi `\"None\"` về `na`"
   ]
  },
  {
   "cell_type": "code",
   "execution_count": 38,
   "id": "5a8ddd4a",
   "metadata": {},
   "outputs": [],
   "source": [
    "def convNa(row):\n",
    "    if len(row) < 8:\n",
    "        return np.nan\n",
    "    else:\n",
    "        return row"
   ]
  },
  {
   "cell_type": "markdown",
   "id": "28af4efe",
   "metadata": {},
   "source": [
    "Thêm 1 cột `year` vào `tracks` là năm của thời điểm người dùng đăng tải nội dung.\\\n",
    "Và lấy ra 2 cột gồm `year` và `purchase_url` và đưa vào biến `down_year`."
   ]
  },
  {
   "cell_type": "code",
   "execution_count": 39,
   "id": "ae823a4c",
   "metadata": {},
   "outputs": [],
   "source": [
    "tracks[\"year\"] = tracks[\"created_at\"].apply(getYear)\n",
    "\n",
    "purchase_year = tracks[[\"year\", \"purchase_url\"]]"
   ]
  },
  {
   "cell_type": "markdown",
   "id": "a3c45dd4",
   "metadata": {},
   "source": [
    "Chuyển các dòng mang giá giá trị `\"None\"` hoặc không phải đường dẫn về `na`"
   ]
  },
  {
   "cell_type": "code",
   "execution_count": 40,
   "id": "2ec9a56a",
   "metadata": {},
   "outputs": [],
   "source": [
    "purchase_year[\"purchase_url\"] = purchase_year[\"purchase_url\"].apply(convNa)"
   ]
  },
  {
   "cell_type": "markdown",
   "id": "9b0571c2",
   "metadata": {},
   "source": [
    "Loại bỏ các dòng mang giá trị `na`."
   ]
  },
  {
   "cell_type": "code",
   "execution_count": 41,
   "id": "293496a9",
   "metadata": {},
   "outputs": [],
   "source": [
    "purchase_year.dropna(axis=0, inplace=True)"
   ]
  },
  {
   "cell_type": "markdown",
   "id": "59758d90",
   "metadata": {},
   "source": [
    "- Số lượng track được đăng tải qua mỗi năm"
   ]
  },
  {
   "cell_type": "markdown",
   "id": "1d1c015f",
   "metadata": {},
   "source": [
    "Lấy ra 2 cột `year` và `id` của tập dữ liệu `tracks` lưu vào biến `tracks_per_year`"
   ]
  },
  {
   "cell_type": "code",
   "execution_count": 42,
   "id": "5a74b886",
   "metadata": {},
   "outputs": [],
   "source": [
    "tracks_per_year = tracks[[\"id\", \"year\"]]"
   ]
  },
  {
   "cell_type": "markdown",
   "id": "bc16f334",
   "metadata": {},
   "source": [
    "Xem xét dữ liệu"
   ]
  },
  {
   "cell_type": "code",
   "execution_count": 43,
   "id": "4d636d24",
   "metadata": {},
   "outputs": [
    {
     "data": {
      "text/plain": [
       "id      0\n",
       "year    0\n",
       "dtype: int64"
      ]
     },
     "execution_count": 43,
     "metadata": {},
     "output_type": "execute_result"
    }
   ],
   "source": [
    "tracks_per_year.isna().sum()"
   ]
  },
  {
   "cell_type": "markdown",
   "id": "3f119387",
   "metadata": {},
   "source": [
    "### Thực hiện trực quan hóa và phân tích dữ liệu"
   ]
  },
  {
   "cell_type": "markdown",
   "id": "84c3eec2",
   "metadata": {},
   "source": [
    "#### Dữ liệu đơn biến:"
   ]
  },
  {
   "cell_type": "markdown",
   "id": "36d5f889",
   "metadata": {},
   "source": [
    "- Năm đăng tải"
   ]
  },
  {
   "cell_type": "code",
   "execution_count": 44,
   "id": "62e01156",
   "metadata": {},
   "outputs": [
    {
     "data": {
      "image/png": "[encoded data removed]",
      "text/plain": [
       "<Figure size 720x576 with 1 Axes>"
      ]
     },
     "metadata": {
      "needs_background": "light"
     },
     "output_type": "display_data"
    }
   ],
   "source": [
    "plt.figure(figsize=(10, 8))\n",
    "\n",
    "plt.hist(tracks_per_year.year);\n",
    "\n",
    "plt.hist(purchase_year.year)\n",
    "plt.xlabel(\"năm\")\n",
    "\n",
    "plt.legend([\"tổng cộng\" ,\"track có chứa purchase_url\"]);"
   ]
  },
  {
   "cell_type": "code",
   "execution_count": 45,
   "id": "c777a0d9",
   "metadata": {},
   "outputs": [
    {
     "name": "stdout",
     "output_type": "stream",
     "text": [
      "Tổng cộng 476 mẫu\n"
     ]
    }
   ],
   "source": [
    "print(\"Tổng cộng\", len(purchase_year.year), \"mẫu\")"
   ]
  },
  {
   "cell_type": "code",
   "execution_count": 46,
   "id": "f9347b75",
   "metadata": {},
   "outputs": [
    {
     "name": "stdout",
     "output_type": "stream",
     "text": [
      "Tổng cộng có 12 năm\n"
     ]
    }
   ],
   "source": [
    "print(\"Tổng cộng có\", len(purchase_year.year.unique()), \"năm\")"
   ]
  },
  {
   "cell_type": "markdown",
   "id": "8d1b7501",
   "metadata": {},
   "source": [
    "#### Dữ liệu đa biến:"
   ]
  },
  {
   "cell_type": "markdown",
   "id": "d7ca9fb1",
   "metadata": {},
   "source": [
    "- tiến hành lấy ra **số lượng track có đính kèm link mua** và **số lượng track tổng cộng** của **6 năm gần nhất**."
   ]
  },
  {
   "cell_type": "code",
   "execution_count": 47,
   "id": "84eb4202",
   "metadata": {},
   "outputs": [],
   "source": [
    "tracks_per_year = tracks_per_year.groupby(\"year\").count()[-6:]"
   ]
  },
  {
   "cell_type": "code",
   "execution_count": 48,
   "id": "20d97657",
   "metadata": {},
   "outputs": [],
   "source": [
    "purchase_per_year = purchase_year.groupby(\"year\").count()[-6:]"
   ]
  },
  {
   "cell_type": "markdown",
   "id": "490ddd91",
   "metadata": {},
   "source": [
    "- sử dụng số lượng"
   ]
  },
  {
   "cell_type": "code",
   "execution_count": 49,
   "id": "de20e179",
   "metadata": {},
   "outputs": [
    {
     "data": {
      "image/png": "[encoded data removed]",
      "text/plain": [
       "<Figure size 1080x720 with 4 Axes>"
      ]
     },
     "metadata": {
      "needs_background": "light"
     },
     "output_type": "display_data"
    }
   ],
   "source": [
    "fig, axes = plt.subplots(nrows=2, ncols=2, figsize=(15, 10))\n",
    "\n",
    "x, y = np.array(list(purchase_per_year.index)), np.array(list(purchase_per_year.values.flatten()))\n",
    "\n",
    "axes[0, 0].barh(x, y)\n",
    "axes[0, 1].scatter(x, y)\n",
    "\n",
    "# get m (slope) and b (intercept).\n",
    "m, b = np.polyfit(x, y, 1)\n",
    "\n",
    "axes[0, 1].plot(x, m*x + b, color=\"red\");\n",
    "\n",
    "x, y = np.array(list(tracks_per_year.index)), np.array(list(tracks_per_year.values.flatten()))\n",
    "\n",
    "axes[1, 0].barh(x, y)\n",
    "axes[1, 1].scatter(x, y)\n",
    "\n",
    "# get m (slope) and b (intercept).\n",
    "m, b = np.polyfit(x, y, 1)\n",
    "\n",
    "axes[1, 1].plot(x, m*x + b, color=\"red\");"
   ]
  },
  {
   "cell_type": "markdown",
   "id": "e4bf5e21",
   "metadata": {},
   "source": [
    "- sử dụng phần trăm so với tổng số lượng track"
   ]
  },
  {
   "cell_type": "code",
   "execution_count": 50,
   "id": "918b6058",
   "metadata": {},
   "outputs": [
    {
     "data": {
      "text/plain": [
       "<Figure size 720x360 with 0 Axes>"
      ]
     },
     "metadata": {},
     "output_type": "display_data"
    },
    {
     "data": {
      "image/png": "[encoded data removed]",
      "text/plain": [
       "<Figure size 1080x360 with 2 Axes>"
      ]
     },
     "metadata": {
      "needs_background": "light"
     },
     "output_type": "display_data"
    }
   ],
   "source": [
    "a, b = np.array(list(purchase_per_year.index)), np.array(list(purchase_per_year.values.flatten()))\n",
    "t = np.array(list(tracks_per_year.values.flatten()))\n",
    "b = (b/t)*100\n",
    "\n",
    "# get m (slope) and it (intercept).\n",
    "m, it = np.polyfit(a, b, 1)\n",
    "\n",
    "plt.figure(figsize=(10, 5));\n",
    "\n",
    "fig, axes = plt.subplots(nrows=1, ncols=2, figsize=(15, 5))\n",
    "\n",
    "axes[0].barh(a, b);\n",
    "axes[1].scatter(a, b);\n",
    "axes[1].plot(a, m*a + it, color=\"red\");"
   ]
  },
  {
   "cell_type": "markdown",
   "id": "9b0c2e99",
   "metadata": {},
   "source": [
    "\n",
    "## Đánh giá kết quả phân tích dữ liệu và đưa ra câu trả lời"
   ]
  },
  {
   "cell_type": "markdown",
   "id": "fb58e50b",
   "metadata": {},
   "source": [
    "**Qua các năm, nhìn chung thì biểu đồ cho chúng ta thấy số lượng track có chứa link mua giảm mạnh qua từng năm\\\n",
    "Nhưng số lượng track được đăng tải qua từng năm vẫn ổn định**\n",
    "* Cho thấy nhu cầu thương mại của người dung đang **giảm** lên qua từng năm.\n",
    "* Tại năm 2019 số lượng track có chứa link mua có dấu hiệu tăng trở lại, nhưng sau đó lại giảm.\n",
    "* Nhưng đến năm 2021 có sự tăng lên của số lượng track được đăng tải và **số lượng track có chứa link mua cũng tăng**. Nhưng so với cách năm trước thì có thể coi là **số lượng track có chứa link mua** đang giảm."
   ]
  },
  {
   "cell_type": "markdown",
   "id": "76ea01b7",
   "metadata": {},
   "source": [
    "---"
   ]
  },
  {
   "cell_type": "markdown",
   "id": "b3bb32ef",
   "metadata": {},
   "source": [
    "**Tại sao lại có sự biến đổi trong dữ liệu?**\\\n",
    "<font color=\"green\">**Sự tăng trưởng từ năm 2019 -> 2021:**</font>\n",
    "- Từ năm 2019 đến 2021 thì có 1 sự kiện nổi bật là dịch bệnh covid-19 khiến cho mọi hoạt động kinh tế bị trì trệ, gây ảnh hưởng không nhỏ tới các nghệ sĩ vì phần lớn thu nhập của họ đến từ các buổi biểu diễn trước tiếp và các sản phẩm (đĩa CD, vinyl, merch,...), nhiều nghệ sĩ vẫn tổ chức buổi biểu diễn trực tiếp có trả phí và họ còn phát hành những MV Ca nhạc trên nền tảng Youtube, nên các nền tảng ẩm nhạc trức tuyến như SoundCloud chỉ được coi như là công cụ để giúp họ để giúp họ quảng bá các sản phẩm âm nhạc của họ đi xa hơn -> nên họ bắt đầu đăng tải các sản phẩm của mình lên đây nhiều hơn.\n",
    "- Ngoài ra vào năm 2021, SoundCloud vừa đưa ra 1 chính sách mới đó là thay đổi hình thức tri trả cho các nghệ sĩ với mô hình thanh toán **\"user-centric\"**, theo cách này thì có thể giúp cho các nghệ sĩ **indie** hoặc các nghệ sĩ ít nổi tiếng kiếm tiền dễ dàng hơn nhờ vào việc người dùng nghe nhạc của họ.\n",
    "- Lưu ý link này chỉ dẫn đến 1 trang thương mại khác để giúp người dùng có thể mua track, **chứ nó không phải của SoundCloud**, các link này có thể dẫn đến **Ituntes** chẳng hạn.\n",
    "\n",
    "**Vậy SoundCloud có tiềm năng để trở thành nhà phân phối nhạc bản quyển được không?**\\\n",
    "<font color=\"green\">-> **câu trả lời là không** vì các user chỉ đơn giản là đăng tải các track của mình lên với mục là để tận dụng SoundCloud giúp quảng bá các sản phẩm âm nhạc của mình tới nhiều người hơn. Bằng chứng là **số lượng track được đăng tải qua từng năm vẫn ổn định**, chỉ có **năm 2021** là **tăng đột biến** chỉ là do trong thời gian giãn cách xã hội người dùng có nhiều thời gian rãnh rỗi hơn nên họ đăng tải nhiều bài hát hơn. </font>"
   ]
  },
  {
   "cell_type": "markdown",
   "id": "a0d4745e",
   "metadata": {},
   "source": [
    "**Kết luận**\\\n",
    "Người dùng chỉ đơn giản là muốn quảng bá các sản phẩm âm nhạc của mình tới nhiều người dùng hơn **trong khoảng thời gian giãn cách xã hội do dịch covid-19**."
   ]
  },
  {
   "cell_type": "markdown",
   "id": "8d9410c1",
   "metadata": {},
   "source": [
    "---"
   ]
  },
  {
   "cell_type": "markdown",
   "id": "b8876894",
   "metadata": {},
   "source": [
    "# Câu hỏi 2:"
   ]
  },
  {
   "cell_type": "markdown",
   "id": "d08aa30d",
   "metadata": {},
   "source": [
    "## Đưa ra câu hỏi có ý nghĩa cần trả lời"
   ]
  },
  {
   "cell_type": "markdown",
   "id": "8e78a09c",
   "metadata": {},
   "source": [
    "Soundcloud từ lâu là một kênh được sử dụng để nghe các sản phẩm dạng âm thanh có bản quyền một cách miễn phí cho tất cả mọi người, nhưng không vì thế mà các creator không thể kiếm giá trị thương mại cho các sản phẩm của mình.\\\n",
    "Soundcloud đã và đang hỗ trợ các creator thông qua việc cung cấp các gói subscription giúp người sáng tạo có thể thu về giá trị thương mại cũng như cho phép donation từ các fan của họ.\n"
   ]
  },
  {
   "cell_type": "markdown",
   "id": "a89f3ea5",
   "metadata": {},
   "source": [
    "### Câu hỏi được đặt ra là:  Sự thay đổi về số lượng creator sử dụng gói pro/pro-unlimited/free trong 5 năm gần nhất (2016-2021) thông qua các creator có các sản phẩm được nghe nhiều nhất (tại thời điểm thu thập dữ liệu)."
   ]
  },
  {
   "cell_type": "markdown",
   "id": "a6cdd44c",
   "metadata": {},
   "source": [
    "> Vì vậy khi trực quan được dữ liệu của được câu hỏi, ta sẽ phân tích được xu hướng hoạt động thương mại thông qua soundcloud của các creator qua các năm"
   ]
  },
  {
   "cell_type": "markdown",
   "id": "f0d8bcba",
   "metadata": {},
   "source": [
    "---"
   ]
  },
  {
   "cell_type": "markdown",
   "id": "dce1b724",
   "metadata": {},
   "source": [
    "## Mong đợi về tập dữ liệu"
   ]
  },
  {
   "cell_type": "markdown",
   "id": "22afc0a4",
   "metadata": {},
   "source": [
    "Mong muốn thấy số lượng người sáng tạo nội dung đăng kí các gói pro hay pro-unlimited của soundcloud ngày càng tăng qua các năm.(lí do) Để thấy được độ ưa chuộng nền tảng Soundcloud của các creator trong thời buổi xuất hiện ngày càng nhiều nền tảng giải trí, học tập qua âm thanh"
   ]
  },
  {
   "cell_type": "markdown",
   "id": "6f8a76ac",
   "metadata": {},
   "source": [
    "---"
   ]
  },
  {
   "cell_type": "markdown",
   "id": "72a47474",
   "metadata": {},
   "source": [
    "## Trả lời các câu hỏi về bộ dữ liệu"
   ]
  },
  {
   "cell_type": "markdown",
   "id": "511b5f7a",
   "metadata": {},
   "source": [
    "#### Xác định bộ dữ liệu thu thập:\n",
    "- Bộ dữ liệu được thu thập thông qua danh sách các bài hát thuộc top 50 cũng như các bài hát thuộc các playlist được nghe nhiều trong thời gian thu thập.\n",
    "#### Xác định các cột dữ liệu cần phân tích\n",
    "- created_at\n",
    "- creator_subscriptions\n",
    "\n",
    "#### Câu hỏi có được trả lời với bộ dữ liệu có sẵn?\n",
    "- Với bộ dữ liệu thu được từ api của soundcloud thì có thể đảm bảo câu hỏi được trả lời đối với các tài khoản tạo trong thời gian gần.\n",
    "- Tuy nhiên, trong dữ liệu không thể hiện thời gian mà user nâng cấp gói subscription nên việc đánh giá nhóm các tài khoản được tạo từ sớm sẽ không được chính xác."
   ]
  },
  {
   "cell_type": "markdown",
   "id": "9e7a0184",
   "metadata": {},
   "source": [
    "---"
   ]
  },
  {
   "cell_type": "markdown",
   "id": "8ff4f681",
   "metadata": {},
   "source": [
    "## Danh sách kiểm tra phân tích dữ liệu:\n",
    "\n",
    "### Tiền xử lí\n",
    "- Lọc các dữ liệu lỗi / trống của các cột cần cho phân tích (đã xử lí ở trên)\n",
    "- Điều chỉnh lại kiểu dữ liệu nếu chưa đúng (đã xử lí created_at)\n",
    "- Phân nhóm theo năm ? (nếu cần thiết)\n",
    "\n",
    "### Phân tích dữ liệu\n",
    "- Trực quan hoá dữ liệu từng cột\n",
    "- Trực quan tương quan giữa 2 cột\n",
    "\n",
    "### Đọc dữ liệu\n",
    "- Phân tích đánh giá trong qua trực quan"
   ]
  },
  {
   "cell_type": "markdown",
   "id": "98ca21a3",
   "metadata": {},
   "source": [
    "---"
   ]
  },
  {
   "cell_type": "markdown",
   "id": "d144abc9",
   "metadata": {},
   "source": [
    "## Tiền xử lý"
   ]
  },
  {
   "cell_type": "code",
   "execution_count": 51,
   "id": "78d95396",
   "metadata": {
    "scrolled": true
   },
   "outputs": [
    {
     "data": {
      "text/plain": [
       "0   2011-10-31 10:24:30\n",
       "1   2011-12-02 06:59:50\n",
       "2   2011-03-29 06:34:41\n",
       "3   2014-11-30 14:55:30\n",
       "4   2012-08-12 01:43:05\n",
       "Name: created_at, dtype: datetime64[ns]"
      ]
     },
     "execution_count": 51,
     "metadata": {},
     "output_type": "execute_result"
    }
   ],
   "source": [
    "users['created_at'].head()"
   ]
  },
  {
   "cell_type": "code",
   "execution_count": 52,
   "id": "07976495",
   "metadata": {
    "scrolled": true
   },
   "outputs": [
    {
     "data": {
      "text/plain": [
       "0    [{'product': {'id': 'creator-pro-unlimited'}}]\n",
       "1              [{'product': {'id': 'creator-pro'}}]\n",
       "2    [{'product': {'id': 'creator-pro-unlimited'}}]\n",
       "3                     [{'product': {'id': 'free'}}]\n",
       "4                     [{'product': {'id': 'free'}}]\n",
       "Name: creator_subscriptions, dtype: object"
      ]
     },
     "execution_count": 52,
     "metadata": {},
     "output_type": "execute_result"
    }
   ],
   "source": [
    "users['creator_subscriptions'].head()"
   ]
  },
  {
   "cell_type": "markdown",
   "id": "9c9f9160-50fe-4363-b61d-b74a30bdcfe5",
   "metadata": {},
   "source": [
    "##### Điều chỉnh lại kiểu dữ liệu của users['creator_subscriptions'] thành list các dict"
   ]
  },
  {
   "cell_type": "code",
   "execution_count": 53,
   "id": "bd8c63df-8044-4981-901d-5f93c35dc6de",
   "metadata": {},
   "outputs": [],
   "source": [
    "subs = []\n",
    "for sub in users['creator_subscriptions']:\n",
    "    sub = '\\\"'.join(sub.split('\\'')).strip('[]')\n",
    "    subs.append(json.loads(sub))"
   ]
  },
  {
   "cell_type": "markdown",
   "id": "db2d5307-75bd-438f-a6ef-69aeee503b78",
   "metadata": {},
   "source": [
    "Thử lại kiểu dữ liệu"
   ]
  },
  {
   "cell_type": "code",
   "execution_count": 54,
   "id": "04404812-9cea-4ccf-acac-8d1aec6d9d27",
   "metadata": {},
   "outputs": [
    {
     "data": {
      "text/plain": [
       "dict"
      ]
     },
     "execution_count": 54,
     "metadata": {},
     "output_type": "execute_result"
    }
   ],
   "source": [
    "type(subs[0])"
   ]
  },
  {
   "cell_type": "markdown",
   "id": "2147ce28",
   "metadata": {},
   "source": [
    "---"
   ]
  },
  {
   "cell_type": "markdown",
   "id": "f7e2c89f",
   "metadata": {},
   "source": [
    "## Phân tích dữ liệu để trả lời cho câu hỏi"
   ]
  },
  {
   "cell_type": "markdown",
   "id": "1f898da7",
   "metadata": {},
   "source": [
    "### Trực quan phân bố dữ liệu của ngày tạo user (theo năm)"
   ]
  },
  {
   "cell_type": "code",
   "execution_count": 55,
   "id": "39a14f0e",
   "metadata": {},
   "outputs": [],
   "source": [
    "year_created = [i.year for i in users['created_at']]"
   ]
  },
  {
   "cell_type": "code",
   "execution_count": 56,
   "id": "6da4a3f9",
   "metadata": {},
   "outputs": [
    {
     "data": {
      "image/png": "[encoded data removed]",
      "text/plain": [
       "<Figure size 432x288 with 1 Axes>"
      ]
     },
     "metadata": {
      "needs_background": "light"
     },
     "output_type": "display_data"
    }
   ],
   "source": [
    "info_year = plt.hist(year_created,bins=14)"
   ]
  },
  {
   "cell_type": "markdown",
   "id": "89e6f3fb",
   "metadata": {},
   "source": [
    "### Trực quan phân bố dữ liệu gói subscription của user"
   ]
  },
  {
   "cell_type": "code",
   "execution_count": 57,
   "id": "12f19561",
   "metadata": {},
   "outputs": [],
   "source": [
    "sub_types = [i['product']['id'] for i in subs]"
   ]
  },
  {
   "cell_type": "code",
   "execution_count": 58,
   "id": "728d3407",
   "metadata": {},
   "outputs": [
    {
     "data": {
      "image/png": "[encoded data removed]",
      "text/plain": [
       "<Figure size 432x288 with 1 Axes>"
      ]
     },
     "metadata": {
      "needs_background": "light"
     },
     "output_type": "display_data"
    }
   ],
   "source": [
    "info_sub = plt.hist(sub_types,bins=3)"
   ]
  },
  {
   "cell_type": "markdown",
   "id": "feddf93e",
   "metadata": {},
   "source": [
    "### Trực quan tương quan giữa created_at và creator_subscription"
   ]
  },
  {
   "cell_type": "code",
   "execution_count": 59,
   "id": "71a6e2d6",
   "metadata": {},
   "outputs": [],
   "source": [
    "_df = pd.DataFrame([year_created,sub_types],index=['year','subs']).T.convert_dtypes()"
   ]
  },
  {
   "cell_type": "code",
   "execution_count": 60,
   "id": "e737d57f",
   "metadata": {},
   "outputs": [
    {
     "data": {
      "text/plain": [
       "{2016: [19, 5, 43],\n",
       " 2017: [11, 2, 46],\n",
       " 2018: [11, 0, 53],\n",
       " 2019: [7, 2, 37],\n",
       " 2020: [12, 0, 59],\n",
       " 2021: [5, 0, 53]}"
      ]
     },
     "execution_count": 60,
     "metadata": {},
     "output_type": "execute_result"
    }
   ],
   "source": [
    "list_year = sorted(_df['year'].unique())\n",
    "list_sub = _df['subs'].unique()\n",
    "data_count = {}\n",
    "for i in list_year:\n",
    "    data_count[i] = []\n",
    "    for j in list_sub:\n",
    "        count = _df.loc[(_df['year'] == i) & (_df['subs']== j)].count()[0]\n",
    "        data_count[i].append(count)\n",
    "\n",
    "## Thực hiện loại bỏ dữ liệu các năm trước 2016\n",
    "for i in range(2008,2016): data_count.__delitem__(i)\n",
    "data_count"
   ]
  },
  {
   "cell_type": "code",
   "execution_count": 61,
   "id": "ec75e9a9",
   "metadata": {},
   "outputs": [],
   "source": [
    "data_table = pd.DataFrame(data_count,index=list_sub).T"
   ]
  },
  {
   "cell_type": "code",
   "execution_count": 62,
   "id": "12d4601e",
   "metadata": {},
   "outputs": [
    {
     "data": {
      "text/plain": [
       "<AxesSubplot:>"
      ]
     },
     "execution_count": 62,
     "metadata": {},
     "output_type": "execute_result"
    },
    {
     "data": {
      "image/png": "[encoded data removed]",
      "text/plain": [
       "<Figure size 432x288 with 1 Axes>"
      ]
     },
     "metadata": {
      "needs_background": "light"
     },
     "output_type": "display_data"
    }
   ],
   "source": [
    "data_table.plot.bar(stacked=True)"
   ]
  },
  {
   "cell_type": "markdown",
   "id": "a2af7d7d",
   "metadata": {},
   "source": [
    "## Đọc dữ liệu và đánh giá kết luận"
   ]
  },
  {
   "cell_type": "markdown",
   "id": "979d52e5",
   "metadata": {},
   "source": [
    "Phân tích từ biểu đồ:\n",
    "+ Giai đoạn từ năm 2016 đến hết năm2019, ta nhận thấy rằng creator của soundcloud có chiều hướng giảm về số lượng tạo mới cũng như về số lượng sử dụng gói pro-unlimited\n",
    "+ Tuy nhiên trong năm 2020 thì số lượng creator lại tăng mạnh và xu hướng sử dụng gói pro-unlimited cũng tăng trở lại (nhưng chiếm tỉ lệ thấp)\n",
    "+ Trong năm 2021 tính đến thời điểm được thu thập (cuối năm 2021) số liệu cho thấy số lượng nhà sáng tạo lại giảm sút và có lượng đăng kí gói cao nhất là thấp nhất"
   ]
  },
  {
   "cell_type": "markdown",
   "id": "b46e9b6a",
   "metadata": {},
   "source": [
    "Đánh giá - kết luận: Có thể thấy xu hướng thương mại các sản phẩm qua soundcloud của các nhà sáng tạo liên tục giảm qua các năm.\n",
    "Giải thích cho việc này, ta có thể xét vào các giai đoạn cụ thể là vào 3 năm gần nhất 2019, 2020 và 2021:\n",
    "- Vào năm 2019, thế giới đón nhận một nền tảng âm nhạc toàn cầu mới và tạo thành xu hướng đó là Spotify. Điều này ảnh hưởng mạnh đến số lượng tạo mới các tài khoản creator.\n",
    "- Trong khi đó, năm 2020 là thời điểm nóng của dịch bệnh covid trên toàn cầu và cũng là thời điểm xuất hiện những khái niệm mới 'giãn cách xã hội', 'làm việc từ xa' và việc số hoá được đẩy mạnh. Điều này đã giúp cho soundcloud cũng như các nền tảng âm nhạc online khác trở nên nhộn nhịp và đa dạng hơn. Tuy nhiên, từ sự ảnh hưởng của nền tảng Spotify mà tỉ lệ về số lượng creator mới muốn thương mại hoá các sản phẩm vẫn chiếm tỉ lệ thấp (hay có thể nói là rất thấp).\n",
    "- Năm 2021, nhờ vào sự xuất hiện của vacine mà việc 'giãn cách xã hội' dần được nới lỏng ở nhiều quốc gia. Đồng nghĩa với việc các nhà sáng tạo 'có tiếng' có thể đầu tư vào các sản phẩm của họ nhiều hơn về mặt hình ảnh, làm cho các kênh âm nhạc chỉ thuần âm thanh như soundcloud lại trở nên kém hấp dẫn hơn cũng như không thể tránh việc họ phải tham gia các hoạt động kinh tế khác để duy trì cuộc sống sau giãn cách.\n"
   ]
  },
  {
   "cell_type": "markdown",
   "id": "bd37f2a0",
   "metadata": {},
   "source": [
    "---"
   ]
  },
  {
   "cell_type": "markdown",
   "id": "89b82ccf",
   "metadata": {},
   "source": [
    "# Câu hỏi 3:"
   ]
  },
  {
   "cell_type": "markdown",
   "id": "88eb2875",
   "metadata": {},
   "source": [
    "## Đưa ra câu hỏi có ý nghĩa cần trả lời"
   ]
  },
  {
   "cell_type": "markdown",
   "id": "1ac4c575",
   "metadata": {},
   "source": [
    "Soundcloud là 1 nền tảng nghe nhạc miễn phí. Là nơi mà mọi người có thể đăng nhạc từ nghiệp dư đến chuyên nghiệp. Với người nghiệp dư \n",
    "\n",
    "**Vậy liệu việc đặt tên track dài, ngắn sẽ ảnh hưởng đến số lượt nghe.**"
   ]
  },
  {
   "cell_type": "markdown",
   "id": "1770898e",
   "metadata": {},
   "source": [
    "---"
   ]
  },
  {
   "cell_type": "markdown",
   "id": "87d47240",
   "metadata": {},
   "source": [
    "## Mong đợi về tập dữ liệu"
   ]
  },
  {
   "cell_type": "markdown",
   "id": "042136ed",
   "metadata": {},
   "source": [
    "Mong muốn số lượng chữ đặt tên là khoảng 7 $\\to$ 17 để chủ tác phẩm có thể đặt tên phù hợp sao cho dễ tiếp cận người dùng."
   ]
  },
  {
   "cell_type": "markdown",
   "id": "a040dd06",
   "metadata": {},
   "source": [
    "---"
   ]
  },
  {
   "cell_type": "markdown",
   "id": "f0a6f649",
   "metadata": {},
   "source": [
    "## Tiền xử lý"
   ]
  },
  {
   "cell_type": "markdown",
   "id": "05c4ccd2",
   "metadata": {},
   "source": [
    "Ta sẽ tìm hiểu xem số lượng từ trong tên track có ảnh hưởng đến lượt nghe không ?\n",
    "\n",
    "**Ta sẽ tách đếm số lượng từ trong tracks**"
   ]
  },
  {
   "cell_type": "markdown",
   "id": "a8e95c31",
   "metadata": {},
   "source": [
    "Thay tất cả giá trị None trong 'playback_count' thành 0."
   ]
  },
  {
   "cell_type": "code",
   "execution_count": 63,
   "id": "5afafeaf",
   "metadata": {},
   "outputs": [],
   "source": [
    "tracks['playback_count'].replace('None', 0, inplace=True)"
   ]
  },
  {
   "cell_type": "code",
   "execution_count": 64,
   "id": "2f3ba183",
   "metadata": {},
   "outputs": [
    {
     "name": "stdout",
     "output_type": "stream",
     "text": [
      "Số từ trong bài:{1, 2, 3, 4, 5, 6, 7, 8, 9, 10, 11, 12, 13, 14, 15, 16, 17, 18, 19, 20, 21, 22, 23, 24}\n",
      "Số lần xuất hiện số từ trong bài:[55, 41, 55, 80, 102, 104, 134, 112, 113, 112, 99, 77, 57, 50, 38, 31, 18, 28, 19, 15, 12, 6, 1, 1]\n"
     ]
    }
   ],
   "source": [
    "Track_List = tracks['title'].tolist()\n",
    "Num_Charac = [] #Tính số lượng từ có thể có ở bài hát trong tracks\n",
    "for i in Track_List:\n",
    "    temp = i.split(\" \")\n",
    "    Num_Charac.append(len(temp))\n",
    "print('Số từ trong bài:' + str(set(Num_Charac)))\n",
    "Time_Charac = [] #Tính số bài hát có số lượng từ từ nhỏ đến lớn trong Num_Charac\n",
    "for i in set(Num_Charac):\n",
    "    Time_Charac.append(Num_Charac.count(i))\n",
    "print('Số lần xuất hiện số từ trong bài:' + str(Time_Charac))"
   ]
  },
  {
   "cell_type": "markdown",
   "id": "a4dd3cc7",
   "metadata": {},
   "source": [
    "Ta có thể thấy được rằng từ 19 từ trở lên. Số lượng bài hát rất ít so với phần còn lại.\n",
    "\n",
    "**Vậy nên ta sẽ tính trung bình lượt nghe của từng loại bài để so sánh**"
   ]
  },
  {
   "cell_type": "code",
   "execution_count": 65,
   "id": "7628e347",
   "metadata": {},
   "outputs": [],
   "source": [
    "#Trung binh\n",
    "Mean_Play_Count = []\n",
    "Each_Play_Charac = []\n",
    "for i in set(Num_Charac):\n",
    "    Play_Count = 0\n",
    "    for j in Track_List:\n",
    "        temp = j.split(\" \")\n",
    "        if(len(temp) == i):\n",
    "            Play_Count += float((tracks.loc[tracks['title'] == j, 'playback_count']).iloc[0])\n",
    "            Each_Play_Charac.append(float((tracks.loc[tracks['title'] == j, 'playback_count']).iloc[0]))\n",
    "    Mean_Play_Count.append(Play_Count/Num_Charac.count(i))\n",
    "\n",
    "Num_Charac_df = pd.DataFrame(Mean_Play_Count,index=set(Num_Charac),columns=['Mean_play'])"
   ]
  },
  {
   "cell_type": "code",
   "execution_count": 66,
   "id": "90943432",
   "metadata": {},
   "outputs": [],
   "source": [
    "X_Scatter = []\n",
    "for i in range(len(Time_Charac)):\n",
    "    for j in range(Time_Charac[i]):\n",
    "        X_Scatter.append(i+1)"
   ]
  },
  {
   "cell_type": "markdown",
   "id": "acc9ba97",
   "metadata": {},
   "source": [
    "---"
   ]
  },
  {
   "cell_type": "markdown",
   "id": "b647fafb",
   "metadata": {},
   "source": [
    "## Phân tích dữ liệu để trả lời cho câu hỏi"
   ]
  },
  {
   "cell_type": "code",
   "execution_count": 67,
   "id": "1e8b834b",
   "metadata": {},
   "outputs": [
    {
     "data": {
      "text/plain": [
       "<matplotlib.colorbar.Colorbar at 0x1d028166d00>"
      ]
     },
     "execution_count": 67,
     "metadata": {},
     "output_type": "execute_result"
    },
    {
     "data": {
      "image/png": "[encoded data removed]",
      "text/plain": [
       "<Figure size 1152x576 with 2 Axes>"
      ]
     },
     "metadata": {
      "needs_background": "light"
     },
     "output_type": "display_data"
    }
   ],
   "source": [
    "plt.figure(figsize=(16,8))\n",
    "plt.scatter(X_Scatter,Each_Play_Charac,c=Each_Play_Charac,cmap='Spectral',edgecolors='k')\n",
    "plt.colorbar(orientation='horizontal')"
   ]
  },
  {
   "cell_type": "markdown",
   "id": "1d9deaff",
   "metadata": {},
   "source": [
    "Ta thấy giá trị ở các cột từ 16 trở về sau lại xuất hiện quá ít giá trị. Ta sẽ xét các cột còn lại."
   ]
  },
  {
   "cell_type": "code",
   "execution_count": 68,
   "id": "53895a46",
   "metadata": {},
   "outputs": [
    {
     "data": {
      "text/plain": [
       "<BarContainer object of 24 artists>"
      ]
     },
     "execution_count": 68,
     "metadata": {},
     "output_type": "execute_result"
    },
    {
     "data": {
      "image/png": "[encoded data removed]",
      "text/plain": [
       "<Figure size 432x288 with 1 Axes>"
      ]
     },
     "metadata": {
      "needs_background": "light"
     },
     "output_type": "display_data"
    }
   ],
   "source": [
    "plt.bar(Num_Charac_df.index,Num_Charac_df['Mean_play'])"
   ]
  },
  {
   "cell_type": "markdown",
   "id": "8dc5c9d3",
   "metadata": {},
   "source": [
    "Ở cột thứ 7 và 10 có 2 giá trị xuất hiện có vẻ như là outlier, nên ta sẽ kiểm tra xem liệu số lượt nghe 2 giá trị này có phải là thật không."
   ]
  },
  {
   "cell_type": "code",
   "execution_count": 69,
   "id": "947f0577",
   "metadata": {},
   "outputs": [],
   "source": [
    "Track_7 = []\n",
    "Track_10 = []\n",
    "Play_Track_10 = []\n",
    "check, Max7, Max10 = 0, 0, 0\n",
    "for i in Track_List:\n",
    "    temp = i.split(\" \")\n",
    "    if(len(temp) == 7):\n",
    "        Track_7.append(i)\n",
    "        Track_7.append(float((tracks.loc[tracks['title'] == i, 'playback_count']).iloc[0]))\n",
    "        if check == 0:\n",
    "            Max7 = float((tracks.loc[tracks['title'] == i, 'playback_count']).iloc[0])\n",
    "        else:\n",
    "            if(float((tracks.loc[tracks['title'] == i, 'playback_count']).iloc[0]) > Max7):\n",
    "                Max7 = float((tracks.loc[tracks['title'] == i, 'playback_count']).iloc[0])\n",
    "    if(len(temp) == 10):\n",
    "        Track_10.append(i)\n",
    "        Track_10.append(float((tracks.loc[tracks['title'] == i, 'playback_count']).iloc[0]))\n",
    "        if check == 0:\n",
    "            Max10 = float((tracks.loc[tracks['title'] == i, 'playback_count']).iloc[0])\n",
    "        else:\n",
    "            if(float((tracks.loc[tracks['title'] == i, 'playback_count']).iloc[0]) > Max10):\n",
    "                Max10 = float((tracks.loc[tracks['title'] == i, 'playback_count']).iloc[0])"
   ]
  },
  {
   "cell_type": "code",
   "execution_count": 70,
   "id": "ddbe8a89",
   "metadata": {},
   "outputs": [
    {
     "name": "stdout",
     "output_type": "stream",
     "text": [
      "Azealia Banks - 212 (ft. Lazy Jay)\n",
      "Sander van Doorn & Julian Jordan - Kangaroo (Original Mix)\n"
     ]
    }
   ],
   "source": [
    "Max7_index = Track_7.index(Max7) - 1\n",
    "print(Track_7[Max7_index])\n",
    "\n",
    "Max10_index = Track_10.index(Max10) - 1\n",
    "print(Track_10[Max10_index])"
   ]
  },
  {
   "cell_type": "markdown",
   "id": "d41fcdc0",
   "metadata": {},
   "source": [
    "Đây là 2 bài hát có số lượt nghe cao trên nền tảng utube nên lượt nghe này là số liệu thật.\n",
    "\n",
    "Vậy qua các số liệu trên ta có thể kết luận rằng: Đặt tên track trong khoảng từ 7-12 từ sẽ tăng lượt nghe hơn."
   ]
  },
  {
   "cell_type": "markdown",
   "id": "c80dba2d",
   "metadata": {},
   "source": [
    "# Câu 4"
   ]
  },
  {
   "cell_type": "markdown",
   "id": "a8d5f5b6",
   "metadata": {},
   "source": [
    "## Đưa ra câu hỏi có ý nghĩa cần trả lời"
   ]
  },
  {
   "cell_type": "markdown",
   "id": "71390f32",
   "metadata": {},
   "source": [
    "Tỉ lệ % track cho phép tải theo năm.\n",
    "\n",
    "Trả lời: Các năm gần đây, ý thức về bản quyền điện tử của mọi người ngày càng cao, liệu điều này có ảnh hưởng đến việc cho phép tải track hay không?"
   ]
  },
  {
   "cell_type": "markdown",
   "id": "ca2af75a",
   "metadata": {},
   "source": [
    "---"
   ]
  },
  {
   "cell_type": "markdown",
   "id": "fa154472",
   "metadata": {},
   "source": [
    "## Mong đợi về tập dữ liệu"
   ]
  },
  {
   "cell_type": "markdown",
   "id": "cf215358",
   "metadata": {},
   "source": [
    "Mong muốn dữ liệu có thể đưa ra tỉ lệ % cho phép tải qua các năm có sự giảm rõ rệt vì điều này sẽ giúp chứng minh được việc mọi người quan tâm đến bản quyền điện tử ngày càng nhiều hơn."
   ]
  },
  {
   "cell_type": "markdown",
   "id": "1e4916cf",
   "metadata": {},
   "source": [
    "---"
   ]
  },
  {
   "cell_type": "markdown",
   "id": "ff353c8e",
   "metadata": {},
   "source": [
    "### Trả lời các câu hỏi về bộ dữ liệu"
   ]
  },
  {
   "cell_type": "markdown",
   "id": "8a2e9d1b",
   "metadata": {},
   "source": [
    "\n",
    "#### Xác định các cột dữ liệu cần phân tích\n",
    "- created_at của tracks\n",
    "- downloadable của tracks\n",
    "\n",
    "#### Câu hỏi có được trả lời với bộ dữ liệu có sẵn?\n",
    "- Với bộ dữ liệu thu được từ api của soundcloud thì có thể đảm bảo câu hỏi được trả lời đối với các track mà user không thay đổi việc cho phép tải hay không."
   ]
  },
  {
   "cell_type": "markdown",
   "id": "97999d9c",
   "metadata": {},
   "source": [
    "---"
   ]
  },
  {
   "cell_type": "markdown",
   "id": "0bcca869",
   "metadata": {},
   "source": [
    "## Phân tích dữ liệu để trả lời cho câu hỏi"
   ]
  },
  {
   "cell_type": "markdown",
   "id": "60b1b062",
   "metadata": {},
   "source": [
    "### Trực quan phân bố dữ liệu các track được tạo theo năm"
   ]
  },
  {
   "cell_type": "code",
   "execution_count": 71,
   "id": "6e2aa59b",
   "metadata": {},
   "outputs": [
    {
     "data": {
      "text/plain": [
       "[2009, 2010, 2011, 2012, 2013, 2014, 2015, 2016, 2017, 2018, 2019, 2020, 2021]"
      ]
     },
     "execution_count": 71,
     "metadata": {},
     "output_type": "execute_result"
    }
   ],
   "source": [
    "year_created = [i.year for i in tracks['created_at']]\n",
    "year_created_unique = []\n",
    "for i in year_created:\n",
    "    if i not in year_created_unique:\n",
    "        year_created_unique.append(i)\n",
    "year_created_unique.sort()\n",
    "year_created_unique"
   ]
  },
  {
   "cell_type": "code",
   "execution_count": 72,
   "id": "f9071fbe",
   "metadata": {},
   "outputs": [
    {
     "name": "stdout",
     "output_type": "stream",
     "text": [
      "Tổng cộng 13 năm\n"
     ]
    }
   ],
   "source": [
    "count_year = len(year_created_unique)\n",
    "print('Tổng cộng', count_year, 'năm')"
   ]
  },
  {
   "cell_type": "code",
   "execution_count": 73,
   "id": "d3b3becc",
   "metadata": {},
   "outputs": [
    {
     "data": {
      "image/png": "[encoded data removed]",
      "text/plain": [
       "<Figure size 432x288 with 1 Axes>"
      ]
     },
     "metadata": {
      "needs_background": "light"
     },
     "output_type": "display_data"
    }
   ],
   "source": [
    "info_year = plt.hist(year_created,bins=count_year)"
   ]
  },
  {
   "cell_type": "markdown",
   "id": "bcf338e1",
   "metadata": {},
   "source": [
    "### Trực quan phân bố dữ liệu của việc cho phép tải track"
   ]
  },
  {
   "cell_type": "code",
   "execution_count": 74,
   "id": "ac86e0c9",
   "metadata": {},
   "outputs": [
    {
     "data": {
      "text/plain": [
       "False    1171\n",
       "True      189\n",
       "Name: downloadable, dtype: int64"
      ]
     },
     "execution_count": 74,
     "metadata": {},
     "output_type": "execute_result"
    }
   ],
   "source": [
    "downloadable_list = tracks['downloadable']\n",
    "count_downloadable = downloadable_list.value_counts()\n",
    "count_downloadable "
   ]
  },
  {
   "cell_type": "code",
   "execution_count": 75,
   "id": "203ab175",
   "metadata": {},
   "outputs": [
    {
     "data": {
      "image/png": "[encoded data removed]",
      "text/plain": [
       "<Figure size 432x288 with 1 Axes>"
      ]
     },
     "metadata": {
      "needs_background": "light"
     },
     "output_type": "display_data"
    }
   ],
   "source": [
    "info_downloadable = count_downloadable.plot.bar(rot = 0)"
   ]
  },
  {
   "cell_type": "markdown",
   "id": "bacf7a1c",
   "metadata": {},
   "source": [
    "### Trực quan tỉ lệ % track cho phép tải theo năm"
   ]
  },
  {
   "cell_type": "code",
   "execution_count": 76,
   "id": "641f761f",
   "metadata": {},
   "outputs": [],
   "source": [
    "df = pd.DataFrame([year_created, downloadable_list], index=['year','downloadable']).T"
   ]
  },
  {
   "cell_type": "code",
   "execution_count": 77,
   "id": "670601a9",
   "metadata": {},
   "outputs": [
    {
     "data": {
      "text/html": [
       "<div>\n",
       "<style scoped>\n",
       "    .dataframe tbody tr th:only-of-type {\n",
       "        vertical-align: middle;\n",
       "    }\n",
       "\n",
       "    .dataframe tbody tr th {\n",
       "        vertical-align: top;\n",
       "    }\n",
       "\n",
       "    .dataframe thead th {\n",
       "        text-align: right;\n",
       "    }\n",
       "</style>\n",
       "<table border=\"1\" class=\"dataframe\">\n",
       "  <thead>\n",
       "    <tr style=\"text-align: right;\">\n",
       "      <th></th>\n",
       "      <th>year</th>\n",
       "      <th>downloadable</th>\n",
       "    </tr>\n",
       "  </thead>\n",
       "  <tbody>\n",
       "    <tr>\n",
       "      <th>0</th>\n",
       "      <td>2018</td>\n",
       "      <td>False</td>\n",
       "    </tr>\n",
       "    <tr>\n",
       "      <th>1</th>\n",
       "      <td>2018</td>\n",
       "      <td>True</td>\n",
       "    </tr>\n",
       "    <tr>\n",
       "      <th>2</th>\n",
       "      <td>2018</td>\n",
       "      <td>False</td>\n",
       "    </tr>\n",
       "    <tr>\n",
       "      <th>3</th>\n",
       "      <td>2021</td>\n",
       "      <td>False</td>\n",
       "    </tr>\n",
       "    <tr>\n",
       "      <th>4</th>\n",
       "      <td>2020</td>\n",
       "      <td>False</td>\n",
       "    </tr>\n",
       "  </tbody>\n",
       "</table>\n",
       "</div>"
      ],
      "text/plain": [
       "   year downloadable\n",
       "0  2018        False\n",
       "1  2018         True\n",
       "2  2018        False\n",
       "3  2021        False\n",
       "4  2020        False"
      ]
     },
     "execution_count": 77,
     "metadata": {},
     "output_type": "execute_result"
    }
   ],
   "source": [
    "df.head()"
   ]
  },
  {
   "cell_type": "code",
   "execution_count": 78,
   "id": "256dace2",
   "metadata": {},
   "outputs": [],
   "source": [
    "dict_down_by_year = {}\n",
    "for year in year_created_unique:\n",
    "    df_2 = df.loc[df['year'] == year]\n",
    "    count_bool = df_2.shape[0]\n",
    "    count_True = df_2.loc[df_2['downloadable'] == True].shape[0]\n",
    "    percentile = count_True / count_bool * 100\n",
    "    dict_down_by_year[year] = percentile    "
   ]
  },
  {
   "cell_type": "code",
   "execution_count": 79,
   "id": "1dae4124",
   "metadata": {},
   "outputs": [
    {
     "data": {
      "image/png": "[encoded data removed]",
      "text/plain": [
       "<Figure size 432x288 with 1 Axes>"
      ]
     },
     "metadata": {
      "needs_background": "light"
     },
     "output_type": "display_data"
    }
   ],
   "source": [
    "plt.bar(*zip(*dict_down_by_year.items()))\n",
    "plt.show()"
   ]
  },
  {
   "cell_type": "markdown",
   "id": "9e1fea60",
   "metadata": {},
   "source": [
    "### Phân tích và đánh giá"
   ]
  },
  {
   "cell_type": "markdown",
   "id": "694246b6",
   "metadata": {},
   "source": [
    "Phân tích:\n",
    "\n",
    "- Giai đoạn 2009 - 2019, tỉ lệ cho phép tải track giao động nhưng vẫn khá cao\n",
    "\n",
    "- Năm 2020 số lượng track lớn hơn năm 2019 nhưng số lượng track cho phép tải lại giảm rất nhiều, dẫn đến tỉ lệ cho phép tải giảm mạnh.\n",
    "\n",
    "- Đến năm 2021, số lượng track nhiều hơn gấp đôi năm 2020 nhưng tỉ lệ cho phép tải không tăng nhiều, cũng chỉ khoảng hơn 5%.\n",
    "\n",
    "Đánh giá:\n",
    "- Như vậy, ý thức bản quyền điện tử có ảnh hưởng tới việc cho phép tải track, đặc biệt là trong 2 năm 2020 và 2021."
   ]
  },
  {
   "cell_type": "markdown",
   "id": "626446bc",
   "metadata": {},
   "source": [
    "# Câu 5:"
   ]
  },
  {
   "cell_type": "markdown",
   "id": "79b86810",
   "metadata": {},
   "source": [
    "## Đưa ra câu hỏi có ý nghĩa cần trả lời"
   ]
  },
  {
   "cell_type": "markdown",
   "id": "c4f30490",
   "metadata": {},
   "source": [
    "Xét tỷ lệ tương quan giữa followers và số track của user, liệu rằng có nhất thiết phải có nhiều tracks thì mới có thể nâng sự phổ biến của mình lên hay không, hay còn yếu tố nào khác ảnh hưởng? Có thể đo độ phổ biến thông qua followers, comment, và số lượng like….\n",
    "Trả lời được câu hỏi này thì ta sẽ biết được rằng khi bắt đầu sáng tác thì ta nên sáng tác đều đặn, ra nhiều bài càng tốt hay là nên đi theo hướng “chậm mà chắc” ….vân vân\n"
   ]
  },
  {
   "cell_type": "markdown",
   "id": "a439013e",
   "metadata": {},
   "source": [
    "---"
   ]
  },
  {
   "cell_type": "markdown",
   "id": "d4f79793",
   "metadata": {},
   "source": [
    "## Mong đợi về tập dữ liệu"
   ]
  },
  {
   "cell_type": "markdown",
   "id": "ad8c7cec",
   "metadata": {},
   "source": [
    "Mong đợi số lượt tương tác (like, comment, repost,...) cũng như lượng follower càng cao sẽ làm cho lượt nghe càng cao, lí do là để hiểu dược tại sao các nhạc sĩ, producer ngày nay thường hay có các chiến dịch quảng cáo, tích cực hoạt động trên các nền tảng xã hội để thu hút followers cho mình và các sản phẩm âm nhạc."
   ]
  },
  {
   "cell_type": "markdown",
   "id": "c39b2042",
   "metadata": {},
   "source": [
    "---"
   ]
  },
  {
   "cell_type": "markdown",
   "id": "f7133403",
   "metadata": {},
   "source": [
    "## Tiền xử lý"
   ]
  },
  {
   "cell_type": "code",
   "execution_count": 80,
   "id": "304d4094",
   "metadata": {},
   "outputs": [],
   "source": [
    "new_df = tracks.merge(users[['followers_count','id']], how = 'left', left_on='user_id', right_on='id')\n",
    "new_df.drop(['id_y'], axis = 1, inplace = True)\n",
    "new_df.rename(columns={'id_x':'id'}, inplace = True)"
   ]
  },
  {
   "cell_type": "code",
   "execution_count": 81,
   "id": "dd0e9c7a",
   "metadata": {},
   "outputs": [],
   "source": [
    "#thêm vào 1 cột day_till_now thể hiện số ngày track đã tồn tại cho đến hiện tại\n",
    "days_int = []\n",
    "for value in new_df['created_at']:\n",
    "    days_int.append(int(value.strftime('%Y%m%d')))\n",
    "now = datetime.now()\n",
    "now = int(now.strftime('%Y%m%d'))\n",
    "for i in range(0,len(days_int)):\n",
    "    days_int[i] = now - days_int[i] \n",
    "new_df['day_till_now'] = days_int"
   ]
  },
  {
   "cell_type": "code",
   "execution_count": 82,
   "id": "45d59594",
   "metadata": {},
   "outputs": [],
   "source": [
    "#bỏ đi những dòng comment_count là None\n",
    "new_df.drop(new_df.loc[new_df['comment_count']== 'None'].index, inplace=True)"
   ]
  },
  {
   "cell_type": "code",
   "execution_count": 83,
   "id": "21935f98",
   "metadata": {},
   "outputs": [],
   "source": [
    "new_df['playback_count'] = pd.to_numeric(new_df['playback_count'])\n",
    "new_df['comment_count'] = pd.to_numeric(new_df['comment_count'])\n",
    "new_df['likes_count'] = pd.to_numeric(new_df['likes_count'])"
   ]
  },
  {
   "cell_type": "code",
   "execution_count": 84,
   "id": "13748a22",
   "metadata": {},
   "outputs": [
    {
     "data": {
      "text/plain": [
       "Index(['commentable', 'comment_count', 'created_at', 'downloadable',\n",
       "       'download_count', 'duration', 'genre', 'id', 'kind', 'label_name',\n",
       "       'likes_count', 'playback_count', 'public', 'purchase_url',\n",
       "       'reposts_count', 'sharing', 'state', 'streamable', 'title', 'user_id',\n",
       "       'year'],\n",
       "      dtype='object')"
      ]
     },
     "execution_count": 84,
     "metadata": {},
     "output_type": "execute_result"
    }
   ],
   "source": [
    "tracks.columns"
   ]
  },
  {
   "cell_type": "markdown",
   "id": "0dd7f3bf",
   "metadata": {},
   "source": [
    "---"
   ]
  },
  {
   "cell_type": "markdown",
   "id": "66c17213",
   "metadata": {},
   "source": [
    "## Phân tích dữ liệu để trả lời cho câu hỏi"
   ]
  },
  {
   "cell_type": "code",
   "execution_count": 85,
   "id": "2c4fe30f",
   "metadata": {},
   "outputs": [],
   "source": [
    "list_col = ['likes_count','reposts_count','comment_count', 'day_till_now','followers_count','duration']"
   ]
  },
  {
   "cell_type": "code",
   "execution_count": 86,
   "id": "0627e70f",
   "metadata": {},
   "outputs": [],
   "source": [
    "corr_value = new_df.corr(method='spearman')['playback_count']"
   ]
  },
  {
   "cell_type": "code",
   "execution_count": 87,
   "id": "dd799810",
   "metadata": {},
   "outputs": [
    {
     "data": {
      "image/png": "[encoded data removed]",
      "text/plain": [
       "<Figure size 1296x1080 with 6 Axes>"
      ]
     },
     "metadata": {
      "needs_background": "light"
     },
     "output_type": "display_data"
    }
   ],
   "source": [
    "fig, ax = plt.subplots(nrows=2, ncols=3, figsize=(18, 15))\n",
    "i = 0\n",
    "j = 0\n",
    "for value in list_col:\n",
    "    if value == 'day_till_now':\n",
    "        i = 1\n",
    "        j = 0\n",
    "    m, b = np.polyfit(new_df[value], new_df['playback_count'],1)\n",
    "    #plt.figure(figsize=(5,5))\n",
    "    ax[i,j].scatter(new_df[value], new_df['playback_count'], s = 15, c = 'red')\n",
    "    ax[i,j].set(xlabel = value, ylabel = 'playback_count')\n",
    "    ax[i,j].plot(new_df[value], m*new_df[value] + b)\n",
    "    j += 1"
   ]
  },
  {
   "cell_type": "code",
   "execution_count": 88,
   "id": "5cfa6b31",
   "metadata": {},
   "outputs": [
    {
     "name": "stdout",
     "output_type": "stream",
     "text": [
      "Xếp hạng mức độ ảnh hưởng của từng thuộc tính đã chọn đối với playback_count(số lần nghe):\n",
      "likes_count: 0.96\n",
      "reposts_count: 0.89\n",
      "comment_count: 0.86\n",
      "day_till_now: 0.49\n",
      "followers_count: 0.45\n",
      "duration: -0.03\n"
     ]
    }
   ],
   "source": [
    "print('Xếp hạng mức độ ảnh hưởng của từng thuộc tính đã chọn đối với playback_count(số lần nghe):')\n",
    "for value in list_col:\n",
    "    print( value + ': ' + str(round(corr_value[value], 2)))"
   ]
  },
  {
   "cell_type": "markdown",
   "id": "019e5a00",
   "metadata": {},
   "source": [
    "## Nhận xét về kết quả  của câu hỏi"
   ]
  },
  {
   "cell_type": "markdown",
   "id": "b9bf5726",
   "metadata": {},
   "source": [
    "1) Số lượt like có vẻ là tương quan nhiều nhất đối với số lượt nghe của 1 bài hát, có thể thấy các giá trị bám khá sát đường hồi quy trong hình => số lượt like 1 bài hát càng cao thì khả năng nó được nghe nhiều lần cao hơn\n",
    "\n",
    "2) Xếp sau lần lượt là số lượt repost và số comment của bài hát với mức tương quan khá cao, và thể hiện trong hình vẽ thì các điểm giá trị cũng phản ánh theo như đường hồi quy => số repost và số comment tương tác cũng khá quan trọng\n",
    "\n",
    "3) Sang đến phần day_till_now, tức số ngày mà track đã tồn tại trên nền tảng soundcloud, thì có vẻ kết quả không được khả quan cho lắm, các giá trị thực phân bố khá xa so với đường hồi quy. Nhưng chủ yếu ta thấy phần giữa của dữ liệu là tập trung phần nhiều giá trị. Có thể thấy rằng các bài hát đã tồn tại ở một mốc thời gian ở phần giữa của tập day_till_now thì thường có số lượt nghe cao hơn là các giá trị còn lại => Các bài ra quá lâu thì không còn độ hot nên số lượt nghe không tăng cao, các bài mới ra gần đây thì do thời gian tồn tại còn ít nên số lượt nghe chưa bằng. Nên các bài tồn tại được khoảng thời gian giữa của tập này thì thường sẽ có số lượt nghe cao hơn, do độ hot chưa giảm nhiều và thời gian tồn tại cũng đủ lâu\n",
    "\n",
    "4) Phần số lượng người follower của nghệ si có vẻ như không quá ảnh hưởng đến số lượt nghe của 1 bài hát, hoặc có thể tập số bài hát trong dữ liệu gốc chưa đủ để phán ánh, nhưng về căn bản thì có khả năng là follower càng nhiều thì số lượt nghe bài hát của người upload bài hát đó có thể tăng(dựa vào đường hồi quy), chỉ là có thể cần thêm nhiều bài hát hơn để xác định rõ hơn phần này.\n",
    "\n",
    "5) Phần duration thì ra có thể thấy rằng là nếu bài hát mà càng dài thì khả năng là số lượt nghe bài hát đó càng ít. Có khả năng là bài dài quá thì người nghe thường không thích do tốn thời gian, hoặc có thể phần mà người nghe muốn nghe trong bài hát đó ít hơn so với độ dài của bài hát nên dẫn đến họ chuyển bài trước khi toàn bộ bài hát kết thúc chăng? Dẫn đến soundcloud không tính số lượt nghe cho lần nghe đó?\n",
    "\n",
    "Tóm lại thì dựa vào kết quả phân tích ở trên thì có thể thấy mức độ ảnh hưởng của việc like, share, comment rất quan trọng trong việc một bài hát có số lượt nghe cao hay thấp. Và có khả năng là các nghệ sĩ, người uplaod có followers cao thì cũng có thể số lượt nghe bài hát của họ cũng sẽ cao hơn bình. Từ đây ta có thể thấy được rằng của việc like,share,comment đối với 1 sản phẩm âm nhạc nói chung và 1 sản phẩm bất kỳ nói riêng là rất quan trọng, và nó có liên quan đến cả việc mức độ quảng bá hình ảnh của một nhạc sĩ, ca sĩ, hay bất cứ người tạo ra sản phẩm nào trong thực tế."
   ]
  }
 ],
 "metadata": {
  "kernelspec": {
   "display_name": "Python 3 (ipykernel)",
   "language": "python",
   "name": "python3"
  },
  "language_info": {
   "codemirror_mode": {
    "name": "ipython",
    "version": 3
   },
   "file_extension": ".py",
   "mimetype": "text/x-python",
   "name": "python",
   "nbconvert_exporter": "python",
   "pygments_lexer": "ipython3",
   "version": "3.8.8"
  }
 },
 "nbformat": 4,
 "nbformat_minor": 5
}
